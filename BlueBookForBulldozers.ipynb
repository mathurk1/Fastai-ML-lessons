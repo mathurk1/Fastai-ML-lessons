{
 "cells": [
  {
   "cell_type": "markdown",
   "metadata": {},
   "source": [
    "# Random forest model to predict price of bulldozers"
   ]
  },
  {
   "cell_type": "markdown",
   "metadata": {},
   "source": [
    "This is a part of the fast.ai course where we are using a simple random forest algorightm to solve the kaggle challenge -\n",
    "[Blue book for bulldozers](https://www.kaggle.com/c/bluebook-for-bulldozers)"
   ]
  },
  {
   "cell_type": "code",
   "execution_count": 1,
   "metadata": {},
   "outputs": [],
   "source": [
    "import pandas as pd\n",
    "import numpy as np\n",
    "import matplotlib.pyplot as plt\n",
    "import re\n",
    "\n",
    "from sklearn.ensemble import RandomForestRegressor\n",
    "from sklearn import preprocessing\n",
    "from sklearn.metrics import mean_squared_error\n",
    "from sklearn.impute import SimpleImputer\n",
    "\n",
    "%matplotlib inline\n",
    "pd.set_option(\"display.max_columns\", 1000)\n",
    "pd.set_option(\"display.max_rows\", 1000)"
   ]
  },
  {
   "cell_type": "code",
   "execution_count": 2,
   "metadata": {},
   "outputs": [],
   "source": [
    "raw_data = pd.read_csv('bulldozers_train_data.csv', low_memory=False, parse_dates=['saledate'])"
   ]
  },
  {
   "cell_type": "code",
   "execution_count": 3,
   "metadata": {
    "scrolled": true
   },
   "outputs": [
    {
     "data": {
      "text/html": [
       "<div>\n",
       "<style scoped>\n",
       "    .dataframe tbody tr th:only-of-type {\n",
       "        vertical-align: middle;\n",
       "    }\n",
       "\n",
       "    .dataframe tbody tr th {\n",
       "        vertical-align: top;\n",
       "    }\n",
       "\n",
       "    .dataframe thead th {\n",
       "        text-align: right;\n",
       "    }\n",
       "</style>\n",
       "<table border=\"1\" class=\"dataframe\">\n",
       "  <thead>\n",
       "    <tr style=\"text-align: right;\">\n",
       "      <th></th>\n",
       "      <th>SalesID</th>\n",
       "      <th>SalePrice</th>\n",
       "      <th>MachineID</th>\n",
       "      <th>ModelID</th>\n",
       "      <th>datasource</th>\n",
       "      <th>auctioneerID</th>\n",
       "      <th>YearMade</th>\n",
       "      <th>MachineHoursCurrentMeter</th>\n",
       "      <th>UsageBand</th>\n",
       "      <th>saledate</th>\n",
       "      <th>fiModelDesc</th>\n",
       "      <th>fiBaseModel</th>\n",
       "      <th>fiSecondaryDesc</th>\n",
       "      <th>fiModelSeries</th>\n",
       "      <th>fiModelDescriptor</th>\n",
       "      <th>ProductSize</th>\n",
       "      <th>fiProductClassDesc</th>\n",
       "      <th>state</th>\n",
       "      <th>ProductGroup</th>\n",
       "      <th>ProductGroupDesc</th>\n",
       "      <th>Drive_System</th>\n",
       "      <th>Enclosure</th>\n",
       "      <th>Forks</th>\n",
       "      <th>Pad_Type</th>\n",
       "      <th>Ride_Control</th>\n",
       "      <th>Stick</th>\n",
       "      <th>Transmission</th>\n",
       "      <th>Turbocharged</th>\n",
       "      <th>Blade_Extension</th>\n",
       "      <th>Blade_Width</th>\n",
       "      <th>Enclosure_Type</th>\n",
       "      <th>Engine_Horsepower</th>\n",
       "      <th>Hydraulics</th>\n",
       "      <th>Pushblock</th>\n",
       "      <th>Ripper</th>\n",
       "      <th>Scarifier</th>\n",
       "      <th>Tip_Control</th>\n",
       "      <th>Tire_Size</th>\n",
       "      <th>Coupler</th>\n",
       "      <th>Coupler_System</th>\n",
       "      <th>Grouser_Tracks</th>\n",
       "      <th>Hydraulics_Flow</th>\n",
       "      <th>Track_Type</th>\n",
       "      <th>Undercarriage_Pad_Width</th>\n",
       "      <th>Stick_Length</th>\n",
       "      <th>Thumb</th>\n",
       "      <th>Pattern_Changer</th>\n",
       "      <th>Grouser_Type</th>\n",
       "      <th>Backhoe_Mounting</th>\n",
       "      <th>Blade_Type</th>\n",
       "      <th>Travel_Controls</th>\n",
       "      <th>Differential_Type</th>\n",
       "      <th>Steering_Controls</th>\n",
       "    </tr>\n",
       "  </thead>\n",
       "  <tbody>\n",
       "    <tr>\n",
       "      <th>0</th>\n",
       "      <td>1139246</td>\n",
       "      <td>66000</td>\n",
       "      <td>999089</td>\n",
       "      <td>3157</td>\n",
       "      <td>121</td>\n",
       "      <td>3.0</td>\n",
       "      <td>2004</td>\n",
       "      <td>68.0</td>\n",
       "      <td>Low</td>\n",
       "      <td>2006-11-16</td>\n",
       "      <td>521D</td>\n",
       "      <td>521</td>\n",
       "      <td>D</td>\n",
       "      <td>NaN</td>\n",
       "      <td>NaN</td>\n",
       "      <td>NaN</td>\n",
       "      <td>Wheel Loader - 110.0 to 120.0 Horsepower</td>\n",
       "      <td>Alabama</td>\n",
       "      <td>WL</td>\n",
       "      <td>Wheel Loader</td>\n",
       "      <td>NaN</td>\n",
       "      <td>EROPS w AC</td>\n",
       "      <td>None or Unspecified</td>\n",
       "      <td>NaN</td>\n",
       "      <td>None or Unspecified</td>\n",
       "      <td>NaN</td>\n",
       "      <td>NaN</td>\n",
       "      <td>NaN</td>\n",
       "      <td>NaN</td>\n",
       "      <td>NaN</td>\n",
       "      <td>NaN</td>\n",
       "      <td>NaN</td>\n",
       "      <td>2 Valve</td>\n",
       "      <td>NaN</td>\n",
       "      <td>NaN</td>\n",
       "      <td>NaN</td>\n",
       "      <td>NaN</td>\n",
       "      <td>None or Unspecified</td>\n",
       "      <td>None or Unspecified</td>\n",
       "      <td>NaN</td>\n",
       "      <td>NaN</td>\n",
       "      <td>NaN</td>\n",
       "      <td>NaN</td>\n",
       "      <td>NaN</td>\n",
       "      <td>NaN</td>\n",
       "      <td>NaN</td>\n",
       "      <td>NaN</td>\n",
       "      <td>NaN</td>\n",
       "      <td>NaN</td>\n",
       "      <td>NaN</td>\n",
       "      <td>NaN</td>\n",
       "      <td>Standard</td>\n",
       "      <td>Conventional</td>\n",
       "    </tr>\n",
       "    <tr>\n",
       "      <th>1</th>\n",
       "      <td>1139248</td>\n",
       "      <td>57000</td>\n",
       "      <td>117657</td>\n",
       "      <td>77</td>\n",
       "      <td>121</td>\n",
       "      <td>3.0</td>\n",
       "      <td>1996</td>\n",
       "      <td>4640.0</td>\n",
       "      <td>Low</td>\n",
       "      <td>2004-03-26</td>\n",
       "      <td>950FII</td>\n",
       "      <td>950</td>\n",
       "      <td>F</td>\n",
       "      <td>II</td>\n",
       "      <td>NaN</td>\n",
       "      <td>Medium</td>\n",
       "      <td>Wheel Loader - 150.0 to 175.0 Horsepower</td>\n",
       "      <td>North Carolina</td>\n",
       "      <td>WL</td>\n",
       "      <td>Wheel Loader</td>\n",
       "      <td>NaN</td>\n",
       "      <td>EROPS w AC</td>\n",
       "      <td>None or Unspecified</td>\n",
       "      <td>NaN</td>\n",
       "      <td>None or Unspecified</td>\n",
       "      <td>NaN</td>\n",
       "      <td>NaN</td>\n",
       "      <td>NaN</td>\n",
       "      <td>NaN</td>\n",
       "      <td>NaN</td>\n",
       "      <td>NaN</td>\n",
       "      <td>NaN</td>\n",
       "      <td>2 Valve</td>\n",
       "      <td>NaN</td>\n",
       "      <td>NaN</td>\n",
       "      <td>NaN</td>\n",
       "      <td>NaN</td>\n",
       "      <td>23.5</td>\n",
       "      <td>None or Unspecified</td>\n",
       "      <td>NaN</td>\n",
       "      <td>NaN</td>\n",
       "      <td>NaN</td>\n",
       "      <td>NaN</td>\n",
       "      <td>NaN</td>\n",
       "      <td>NaN</td>\n",
       "      <td>NaN</td>\n",
       "      <td>NaN</td>\n",
       "      <td>NaN</td>\n",
       "      <td>NaN</td>\n",
       "      <td>NaN</td>\n",
       "      <td>NaN</td>\n",
       "      <td>Standard</td>\n",
       "      <td>Conventional</td>\n",
       "    </tr>\n",
       "    <tr>\n",
       "      <th>2</th>\n",
       "      <td>1139249</td>\n",
       "      <td>10000</td>\n",
       "      <td>434808</td>\n",
       "      <td>7009</td>\n",
       "      <td>121</td>\n",
       "      <td>3.0</td>\n",
       "      <td>2001</td>\n",
       "      <td>2838.0</td>\n",
       "      <td>High</td>\n",
       "      <td>2004-02-26</td>\n",
       "      <td>226</td>\n",
       "      <td>226</td>\n",
       "      <td>NaN</td>\n",
       "      <td>NaN</td>\n",
       "      <td>NaN</td>\n",
       "      <td>NaN</td>\n",
       "      <td>Skid Steer Loader - 1351.0 to 1601.0 Lb Operat...</td>\n",
       "      <td>New York</td>\n",
       "      <td>SSL</td>\n",
       "      <td>Skid Steer Loaders</td>\n",
       "      <td>NaN</td>\n",
       "      <td>OROPS</td>\n",
       "      <td>None or Unspecified</td>\n",
       "      <td>NaN</td>\n",
       "      <td>NaN</td>\n",
       "      <td>NaN</td>\n",
       "      <td>NaN</td>\n",
       "      <td>NaN</td>\n",
       "      <td>NaN</td>\n",
       "      <td>NaN</td>\n",
       "      <td>NaN</td>\n",
       "      <td>NaN</td>\n",
       "      <td>Auxiliary</td>\n",
       "      <td>NaN</td>\n",
       "      <td>NaN</td>\n",
       "      <td>NaN</td>\n",
       "      <td>NaN</td>\n",
       "      <td>NaN</td>\n",
       "      <td>None or Unspecified</td>\n",
       "      <td>None or Unspecified</td>\n",
       "      <td>None or Unspecified</td>\n",
       "      <td>Standard</td>\n",
       "      <td>NaN</td>\n",
       "      <td>NaN</td>\n",
       "      <td>NaN</td>\n",
       "      <td>NaN</td>\n",
       "      <td>NaN</td>\n",
       "      <td>NaN</td>\n",
       "      <td>NaN</td>\n",
       "      <td>NaN</td>\n",
       "      <td>NaN</td>\n",
       "      <td>NaN</td>\n",
       "      <td>NaN</td>\n",
       "    </tr>\n",
       "    <tr>\n",
       "      <th>3</th>\n",
       "      <td>1139251</td>\n",
       "      <td>38500</td>\n",
       "      <td>1026470</td>\n",
       "      <td>332</td>\n",
       "      <td>121</td>\n",
       "      <td>3.0</td>\n",
       "      <td>2001</td>\n",
       "      <td>3486.0</td>\n",
       "      <td>High</td>\n",
       "      <td>2011-05-19</td>\n",
       "      <td>PC120-6E</td>\n",
       "      <td>PC120</td>\n",
       "      <td>NaN</td>\n",
       "      <td>-6E</td>\n",
       "      <td>NaN</td>\n",
       "      <td>Small</td>\n",
       "      <td>Hydraulic Excavator, Track - 12.0 to 14.0 Metr...</td>\n",
       "      <td>Texas</td>\n",
       "      <td>TEX</td>\n",
       "      <td>Track Excavators</td>\n",
       "      <td>NaN</td>\n",
       "      <td>EROPS w AC</td>\n",
       "      <td>NaN</td>\n",
       "      <td>NaN</td>\n",
       "      <td>NaN</td>\n",
       "      <td>NaN</td>\n",
       "      <td>NaN</td>\n",
       "      <td>NaN</td>\n",
       "      <td>NaN</td>\n",
       "      <td>NaN</td>\n",
       "      <td>NaN</td>\n",
       "      <td>NaN</td>\n",
       "      <td>2 Valve</td>\n",
       "      <td>NaN</td>\n",
       "      <td>NaN</td>\n",
       "      <td>NaN</td>\n",
       "      <td>NaN</td>\n",
       "      <td>NaN</td>\n",
       "      <td>None or Unspecified</td>\n",
       "      <td>NaN</td>\n",
       "      <td>NaN</td>\n",
       "      <td>NaN</td>\n",
       "      <td>NaN</td>\n",
       "      <td>NaN</td>\n",
       "      <td>NaN</td>\n",
       "      <td>NaN</td>\n",
       "      <td>NaN</td>\n",
       "      <td>NaN</td>\n",
       "      <td>NaN</td>\n",
       "      <td>NaN</td>\n",
       "      <td>NaN</td>\n",
       "      <td>NaN</td>\n",
       "      <td>NaN</td>\n",
       "    </tr>\n",
       "    <tr>\n",
       "      <th>4</th>\n",
       "      <td>1139253</td>\n",
       "      <td>11000</td>\n",
       "      <td>1057373</td>\n",
       "      <td>17311</td>\n",
       "      <td>121</td>\n",
       "      <td>3.0</td>\n",
       "      <td>2007</td>\n",
       "      <td>722.0</td>\n",
       "      <td>Medium</td>\n",
       "      <td>2009-07-23</td>\n",
       "      <td>S175</td>\n",
       "      <td>S175</td>\n",
       "      <td>NaN</td>\n",
       "      <td>NaN</td>\n",
       "      <td>NaN</td>\n",
       "      <td>NaN</td>\n",
       "      <td>Skid Steer Loader - 1601.0 to 1751.0 Lb Operat...</td>\n",
       "      <td>New York</td>\n",
       "      <td>SSL</td>\n",
       "      <td>Skid Steer Loaders</td>\n",
       "      <td>NaN</td>\n",
       "      <td>EROPS</td>\n",
       "      <td>None or Unspecified</td>\n",
       "      <td>NaN</td>\n",
       "      <td>NaN</td>\n",
       "      <td>NaN</td>\n",
       "      <td>NaN</td>\n",
       "      <td>NaN</td>\n",
       "      <td>NaN</td>\n",
       "      <td>NaN</td>\n",
       "      <td>NaN</td>\n",
       "      <td>NaN</td>\n",
       "      <td>Auxiliary</td>\n",
       "      <td>NaN</td>\n",
       "      <td>NaN</td>\n",
       "      <td>NaN</td>\n",
       "      <td>NaN</td>\n",
       "      <td>NaN</td>\n",
       "      <td>None or Unspecified</td>\n",
       "      <td>None or Unspecified</td>\n",
       "      <td>None or Unspecified</td>\n",
       "      <td>Standard</td>\n",
       "      <td>NaN</td>\n",
       "      <td>NaN</td>\n",
       "      <td>NaN</td>\n",
       "      <td>NaN</td>\n",
       "      <td>NaN</td>\n",
       "      <td>NaN</td>\n",
       "      <td>NaN</td>\n",
       "      <td>NaN</td>\n",
       "      <td>NaN</td>\n",
       "      <td>NaN</td>\n",
       "      <td>NaN</td>\n",
       "    </tr>\n",
       "  </tbody>\n",
       "</table>\n",
       "</div>"
      ],
      "text/plain": [
       "   SalesID  SalePrice  MachineID  ModelID  datasource  auctioneerID  YearMade  \\\n",
       "0  1139246      66000     999089     3157         121           3.0      2004   \n",
       "1  1139248      57000     117657       77         121           3.0      1996   \n",
       "2  1139249      10000     434808     7009         121           3.0      2001   \n",
       "3  1139251      38500    1026470      332         121           3.0      2001   \n",
       "4  1139253      11000    1057373    17311         121           3.0      2007   \n",
       "\n",
       "   MachineHoursCurrentMeter UsageBand   saledate fiModelDesc fiBaseModel  \\\n",
       "0                      68.0       Low 2006-11-16        521D         521   \n",
       "1                    4640.0       Low 2004-03-26      950FII         950   \n",
       "2                    2838.0      High 2004-02-26         226         226   \n",
       "3                    3486.0      High 2011-05-19    PC120-6E       PC120   \n",
       "4                     722.0    Medium 2009-07-23        S175        S175   \n",
       "\n",
       "  fiSecondaryDesc fiModelSeries fiModelDescriptor ProductSize  \\\n",
       "0               D           NaN               NaN         NaN   \n",
       "1               F            II               NaN      Medium   \n",
       "2             NaN           NaN               NaN         NaN   \n",
       "3             NaN           -6E               NaN       Small   \n",
       "4             NaN           NaN               NaN         NaN   \n",
       "\n",
       "                                  fiProductClassDesc           state  \\\n",
       "0           Wheel Loader - 110.0 to 120.0 Horsepower         Alabama   \n",
       "1           Wheel Loader - 150.0 to 175.0 Horsepower  North Carolina   \n",
       "2  Skid Steer Loader - 1351.0 to 1601.0 Lb Operat...        New York   \n",
       "3  Hydraulic Excavator, Track - 12.0 to 14.0 Metr...           Texas   \n",
       "4  Skid Steer Loader - 1601.0 to 1751.0 Lb Operat...        New York   \n",
       "\n",
       "  ProductGroup    ProductGroupDesc Drive_System   Enclosure  \\\n",
       "0           WL        Wheel Loader          NaN  EROPS w AC   \n",
       "1           WL        Wheel Loader          NaN  EROPS w AC   \n",
       "2          SSL  Skid Steer Loaders          NaN       OROPS   \n",
       "3          TEX    Track Excavators          NaN  EROPS w AC   \n",
       "4          SSL  Skid Steer Loaders          NaN       EROPS   \n",
       "\n",
       "                 Forks Pad_Type         Ride_Control Stick Transmission  \\\n",
       "0  None or Unspecified      NaN  None or Unspecified   NaN          NaN   \n",
       "1  None or Unspecified      NaN  None or Unspecified   NaN          NaN   \n",
       "2  None or Unspecified      NaN                  NaN   NaN          NaN   \n",
       "3                  NaN      NaN                  NaN   NaN          NaN   \n",
       "4  None or Unspecified      NaN                  NaN   NaN          NaN   \n",
       "\n",
       "  Turbocharged Blade_Extension Blade_Width Enclosure_Type Engine_Horsepower  \\\n",
       "0          NaN             NaN         NaN            NaN               NaN   \n",
       "1          NaN             NaN         NaN            NaN               NaN   \n",
       "2          NaN             NaN         NaN            NaN               NaN   \n",
       "3          NaN             NaN         NaN            NaN               NaN   \n",
       "4          NaN             NaN         NaN            NaN               NaN   \n",
       "\n",
       "  Hydraulics Pushblock Ripper Scarifier Tip_Control            Tire_Size  \\\n",
       "0    2 Valve       NaN    NaN       NaN         NaN  None or Unspecified   \n",
       "1    2 Valve       NaN    NaN       NaN         NaN                 23.5   \n",
       "2  Auxiliary       NaN    NaN       NaN         NaN                  NaN   \n",
       "3    2 Valve       NaN    NaN       NaN         NaN                  NaN   \n",
       "4  Auxiliary       NaN    NaN       NaN         NaN                  NaN   \n",
       "\n",
       "               Coupler       Coupler_System       Grouser_Tracks  \\\n",
       "0  None or Unspecified                  NaN                  NaN   \n",
       "1  None or Unspecified                  NaN                  NaN   \n",
       "2  None or Unspecified  None or Unspecified  None or Unspecified   \n",
       "3  None or Unspecified                  NaN                  NaN   \n",
       "4  None or Unspecified  None or Unspecified  None or Unspecified   \n",
       "\n",
       "  Hydraulics_Flow Track_Type Undercarriage_Pad_Width Stick_Length Thumb  \\\n",
       "0             NaN        NaN                     NaN          NaN   NaN   \n",
       "1             NaN        NaN                     NaN          NaN   NaN   \n",
       "2        Standard        NaN                     NaN          NaN   NaN   \n",
       "3             NaN        NaN                     NaN          NaN   NaN   \n",
       "4        Standard        NaN                     NaN          NaN   NaN   \n",
       "\n",
       "  Pattern_Changer Grouser_Type Backhoe_Mounting Blade_Type Travel_Controls  \\\n",
       "0             NaN          NaN              NaN        NaN             NaN   \n",
       "1             NaN          NaN              NaN        NaN             NaN   \n",
       "2             NaN          NaN              NaN        NaN             NaN   \n",
       "3             NaN          NaN              NaN        NaN             NaN   \n",
       "4             NaN          NaN              NaN        NaN             NaN   \n",
       "\n",
       "  Differential_Type Steering_Controls  \n",
       "0          Standard      Conventional  \n",
       "1          Standard      Conventional  \n",
       "2               NaN               NaN  \n",
       "3               NaN               NaN  \n",
       "4               NaN               NaN  "
      ]
     },
     "execution_count": 3,
     "metadata": {},
     "output_type": "execute_result"
    }
   ],
   "source": [
    "raw_data.head(5)"
   ]
  },
  {
   "cell_type": "markdown",
   "metadata": {},
   "source": [
    "## DATA EXPLORATION"
   ]
  },
  {
   "cell_type": "code",
   "execution_count": 4,
   "metadata": {},
   "outputs": [
    {
     "data": {
      "text/plain": [
       "<matplotlib.axes._subplots.AxesSubplot at 0x2053fde4548>"
      ]
     },
     "execution_count": 4,
     "metadata": {},
     "output_type": "execute_result"
    },
    {
     "data": {
      "image/png": "[encoded data removed]",
      "text/plain": [
       "<Figure size 720x360 with 1 Axes>"
      ]
     },
     "metadata": {
      "needs_background": "light"
     },
     "output_type": "display_data"
    }
   ],
   "source": [
    "## plot sales per year\n",
    "fig, ax = plt.subplots(figsize=(10,5))\n",
    "raw_data.groupby(raw_data['saledate'].dt.year)['SalePrice'].count().plot(ax=ax)"
   ]
  },
  {
   "cell_type": "code",
   "execution_count": 5,
   "metadata": {},
   "outputs": [
    {
     "data": {
      "text/plain": [
       "<matplotlib.axes._subplots.AxesSubplot at 0x2054574d408>"
      ]
     },
     "execution_count": 5,
     "metadata": {},
     "output_type": "execute_result"
    },
    {
     "data": {
      "image/png": "[encoded data removed]",
      "text/plain": [
       "<Figure size 720x360 with 1 Axes>"
      ]
     },
     "metadata": {
      "needs_background": "light"
     },
     "output_type": "display_data"
    }
   ],
   "source": [
    "## plot sales number per year\n",
    "fig, ax = plt.subplots(figsize=(10,5))\n",
    "raw_data.groupby(raw_data['saledate'].dt.year)['SalePrice'].mean().plot(ax=ax)"
   ]
  },
  {
   "cell_type": "code",
   "execution_count": 6,
   "metadata": {},
   "outputs": [
    {
     "data": {
      "text/plain": [
       "(401125, 53)"
      ]
     },
     "execution_count": 6,
     "metadata": {},
     "output_type": "execute_result"
    }
   ],
   "source": [
    "## shape\n",
    "raw_data.shape"
   ]
  },
  {
   "cell_type": "markdown",
   "metadata": {},
   "source": [
    "## FEATURE ENGINEERING (for entire dataset)"
   ]
  },
  {
   "cell_type": "code",
   "execution_count": 7,
   "metadata": {},
   "outputs": [],
   "source": [
    "# transform the sale price to log data\n",
    "raw_data['SalePrice'] = np.log(raw_data['SalePrice'])"
   ]
  },
  {
   "cell_type": "code",
   "execution_count": 8,
   "metadata": {},
   "outputs": [],
   "source": [
    "# feature engineering for the dates\n",
    "def add_datepart(df, fldname):\n",
    "    fld = df[fldname]\n",
    "    target_pre = re.sub('[Dd]ate$', '', fldname)\n",
    "    for n in ('Year', 'Month', 'Week', 'Day', 'Dayofweek', 'Dayofyear', 'Is_month_end'\n",
    "             , 'Is_month_start', 'Is_quarter_end', 'Is_quarter_start', 'Is_year_end', 'Is_year_start'):\n",
    "        \n",
    "        df[target_pre+n] = getattr(fld.dt, n.lower())\n",
    "    df[target_pre+'Elapsed'] = (fld - fld.min()).dt.days\n",
    "    df.drop(fldname, axis=1, inplace=True)\n",
    "    return df"
   ]
  },
  {
   "cell_type": "code",
   "execution_count": 9,
   "metadata": {},
   "outputs": [],
   "source": [
    "# convert non numeric values to categories\n",
    "def numericalize(df, col, name):\n",
    "    if not pd.api.types.is_numeric_dtype(col):\n",
    "        col = col.astype('category')\n",
    "        df[name] = col.cat.codes+1"
   ]
  },
  {
   "cell_type": "code",
   "execution_count": 10,
   "metadata": {},
   "outputs": [],
   "source": [
    "# fill missing variables\n",
    "def fill_missing_vals(df, fill_strategy):\n",
    "    imp = SimpleImputer(missing_values=np.nan, strategy=fill_strategy)\n",
    "    imp.fit(df)\n",
    "    raw_data_columns = df.columns\n",
    "    df_temp = imp.transform(df)\n",
    "    cleaned_data = pd.DataFrame(df_temp, columns=raw_data_columns)\n",
    "    cleaned_data = cleaned_data.reset_index(drop=True)\n",
    "    return cleaned_data"
   ]
  },
  {
   "cell_type": "code",
   "execution_count": 11,
   "metadata": {},
   "outputs": [],
   "source": [
    "# add date part\n",
    "raw_data = add_datepart(raw_data, 'saledate')\n",
    "\n",
    "# convert usage band to ordinal type\n",
    "raw_data['UsageBand'].astype('category').cat.set_categories(['High', 'Medium', 'Low'], ordered=True, inplace=True)\n",
    "\n",
    "# numericalize columns\n",
    "for n, c in raw_data.items():\n",
    "    if n == 'SalePrice':\n",
    "        continue\n",
    "    #print(f\"processing column {n}\")\n",
    "    numericalize(raw_data, c, n)\n",
    "    \n",
    "#fill missing values\n",
    "cleaned_data = fill_missing_vals(raw_data, 'median')"
   ]
  },
  {
   "cell_type": "code",
   "execution_count": 12,
   "metadata": {},
   "outputs": [
    {
     "data": {
      "text/html": [
       "<div>\n",
       "<style scoped>\n",
       "    .dataframe tbody tr th:only-of-type {\n",
       "        vertical-align: middle;\n",
       "    }\n",
       "\n",
       "    .dataframe tbody tr th {\n",
       "        vertical-align: top;\n",
       "    }\n",
       "\n",
       "    .dataframe thead th {\n",
       "        text-align: right;\n",
       "    }\n",
       "</style>\n",
       "<table border=\"1\" class=\"dataframe\">\n",
       "  <thead>\n",
       "    <tr style=\"text-align: right;\">\n",
       "      <th></th>\n",
       "      <th>SalesID</th>\n",
       "      <th>SalePrice</th>\n",
       "      <th>MachineID</th>\n",
       "      <th>ModelID</th>\n",
       "      <th>datasource</th>\n",
       "      <th>auctioneerID</th>\n",
       "      <th>YearMade</th>\n",
       "      <th>MachineHoursCurrentMeter</th>\n",
       "      <th>UsageBand</th>\n",
       "      <th>fiModelDesc</th>\n",
       "      <th>fiBaseModel</th>\n",
       "      <th>fiSecondaryDesc</th>\n",
       "      <th>fiModelSeries</th>\n",
       "      <th>fiModelDescriptor</th>\n",
       "      <th>ProductSize</th>\n",
       "      <th>fiProductClassDesc</th>\n",
       "      <th>state</th>\n",
       "      <th>ProductGroup</th>\n",
       "      <th>ProductGroupDesc</th>\n",
       "      <th>Drive_System</th>\n",
       "      <th>Enclosure</th>\n",
       "      <th>Forks</th>\n",
       "      <th>Pad_Type</th>\n",
       "      <th>Ride_Control</th>\n",
       "      <th>Stick</th>\n",
       "      <th>Transmission</th>\n",
       "      <th>Turbocharged</th>\n",
       "      <th>Blade_Extension</th>\n",
       "      <th>Blade_Width</th>\n",
       "      <th>Enclosure_Type</th>\n",
       "      <th>Engine_Horsepower</th>\n",
       "      <th>Hydraulics</th>\n",
       "      <th>Pushblock</th>\n",
       "      <th>Ripper</th>\n",
       "      <th>Scarifier</th>\n",
       "      <th>Tip_Control</th>\n",
       "      <th>Tire_Size</th>\n",
       "      <th>Coupler</th>\n",
       "      <th>Coupler_System</th>\n",
       "      <th>Grouser_Tracks</th>\n",
       "      <th>Hydraulics_Flow</th>\n",
       "      <th>Track_Type</th>\n",
       "      <th>Undercarriage_Pad_Width</th>\n",
       "      <th>Stick_Length</th>\n",
       "      <th>Thumb</th>\n",
       "      <th>Pattern_Changer</th>\n",
       "      <th>Grouser_Type</th>\n",
       "      <th>Backhoe_Mounting</th>\n",
       "      <th>Blade_Type</th>\n",
       "      <th>Travel_Controls</th>\n",
       "      <th>Differential_Type</th>\n",
       "      <th>Steering_Controls</th>\n",
       "      <th>saleYear</th>\n",
       "      <th>saleMonth</th>\n",
       "      <th>saleWeek</th>\n",
       "      <th>saleDay</th>\n",
       "      <th>saleDayofweek</th>\n",
       "      <th>saleDayofyear</th>\n",
       "      <th>saleIs_month_end</th>\n",
       "      <th>saleIs_month_start</th>\n",
       "      <th>saleIs_quarter_end</th>\n",
       "      <th>saleIs_quarter_start</th>\n",
       "      <th>saleIs_year_end</th>\n",
       "      <th>saleIs_year_start</th>\n",
       "      <th>saleElapsed</th>\n",
       "    </tr>\n",
       "  </thead>\n",
       "  <tbody>\n",
       "    <tr>\n",
       "      <th>0</th>\n",
       "      <td>1139246.0</td>\n",
       "      <td>11.097410</td>\n",
       "      <td>999089.0</td>\n",
       "      <td>3157.0</td>\n",
       "      <td>121.0</td>\n",
       "      <td>3.0</td>\n",
       "      <td>2004.0</td>\n",
       "      <td>68.0</td>\n",
       "      <td>2.0</td>\n",
       "      <td>950.0</td>\n",
       "      <td>296.0</td>\n",
       "      <td>41.0</td>\n",
       "      <td>0.0</td>\n",
       "      <td>0.0</td>\n",
       "      <td>0.0</td>\n",
       "      <td>59.0</td>\n",
       "      <td>1.0</td>\n",
       "      <td>6.0</td>\n",
       "      <td>6.0</td>\n",
       "      <td>0.0</td>\n",
       "      <td>3.0</td>\n",
       "      <td>1.0</td>\n",
       "      <td>0.0</td>\n",
       "      <td>2.0</td>\n",
       "      <td>0.0</td>\n",
       "      <td>0.0</td>\n",
       "      <td>0.0</td>\n",
       "      <td>0.0</td>\n",
       "      <td>0.0</td>\n",
       "      <td>0.0</td>\n",
       "      <td>0.0</td>\n",
       "      <td>1.0</td>\n",
       "      <td>0.0</td>\n",
       "      <td>0.0</td>\n",
       "      <td>0.0</td>\n",
       "      <td>0.0</td>\n",
       "      <td>17.0</td>\n",
       "      <td>3.0</td>\n",
       "      <td>0.0</td>\n",
       "      <td>0.0</td>\n",
       "      <td>0.0</td>\n",
       "      <td>0.0</td>\n",
       "      <td>0.0</td>\n",
       "      <td>0.0</td>\n",
       "      <td>0.0</td>\n",
       "      <td>0.0</td>\n",
       "      <td>0.0</td>\n",
       "      <td>0.0</td>\n",
       "      <td>0.0</td>\n",
       "      <td>0.0</td>\n",
       "      <td>4.0</td>\n",
       "      <td>2.0</td>\n",
       "      <td>2006.0</td>\n",
       "      <td>11.0</td>\n",
       "      <td>46.0</td>\n",
       "      <td>16.0</td>\n",
       "      <td>3.0</td>\n",
       "      <td>320.0</td>\n",
       "      <td>0.0</td>\n",
       "      <td>0.0</td>\n",
       "      <td>0.0</td>\n",
       "      <td>0.0</td>\n",
       "      <td>0.0</td>\n",
       "      <td>0.0</td>\n",
       "      <td>6512.0</td>\n",
       "    </tr>\n",
       "    <tr>\n",
       "      <th>1</th>\n",
       "      <td>1139248.0</td>\n",
       "      <td>10.950807</td>\n",
       "      <td>117657.0</td>\n",
       "      <td>77.0</td>\n",
       "      <td>121.0</td>\n",
       "      <td>3.0</td>\n",
       "      <td>1996.0</td>\n",
       "      <td>4640.0</td>\n",
       "      <td>2.0</td>\n",
       "      <td>1725.0</td>\n",
       "      <td>527.0</td>\n",
       "      <td>55.0</td>\n",
       "      <td>98.0</td>\n",
       "      <td>0.0</td>\n",
       "      <td>4.0</td>\n",
       "      <td>62.0</td>\n",
       "      <td>33.0</td>\n",
       "      <td>6.0</td>\n",
       "      <td>6.0</td>\n",
       "      <td>0.0</td>\n",
       "      <td>3.0</td>\n",
       "      <td>1.0</td>\n",
       "      <td>0.0</td>\n",
       "      <td>2.0</td>\n",
       "      <td>0.0</td>\n",
       "      <td>0.0</td>\n",
       "      <td>0.0</td>\n",
       "      <td>0.0</td>\n",
       "      <td>0.0</td>\n",
       "      <td>0.0</td>\n",
       "      <td>0.0</td>\n",
       "      <td>1.0</td>\n",
       "      <td>0.0</td>\n",
       "      <td>0.0</td>\n",
       "      <td>0.0</td>\n",
       "      <td>0.0</td>\n",
       "      <td>12.0</td>\n",
       "      <td>3.0</td>\n",
       "      <td>0.0</td>\n",
       "      <td>0.0</td>\n",
       "      <td>0.0</td>\n",
       "      <td>0.0</td>\n",
       "      <td>0.0</td>\n",
       "      <td>0.0</td>\n",
       "      <td>0.0</td>\n",
       "      <td>0.0</td>\n",
       "      <td>0.0</td>\n",
       "      <td>0.0</td>\n",
       "      <td>0.0</td>\n",
       "      <td>0.0</td>\n",
       "      <td>4.0</td>\n",
       "      <td>2.0</td>\n",
       "      <td>2004.0</td>\n",
       "      <td>3.0</td>\n",
       "      <td>13.0</td>\n",
       "      <td>26.0</td>\n",
       "      <td>4.0</td>\n",
       "      <td>86.0</td>\n",
       "      <td>0.0</td>\n",
       "      <td>0.0</td>\n",
       "      <td>0.0</td>\n",
       "      <td>0.0</td>\n",
       "      <td>0.0</td>\n",
       "      <td>0.0</td>\n",
       "      <td>5547.0</td>\n",
       "    </tr>\n",
       "    <tr>\n",
       "      <th>2</th>\n",
       "      <td>1139249.0</td>\n",
       "      <td>9.210340</td>\n",
       "      <td>434808.0</td>\n",
       "      <td>7009.0</td>\n",
       "      <td>121.0</td>\n",
       "      <td>3.0</td>\n",
       "      <td>2001.0</td>\n",
       "      <td>2838.0</td>\n",
       "      <td>1.0</td>\n",
       "      <td>331.0</td>\n",
       "      <td>110.0</td>\n",
       "      <td>0.0</td>\n",
       "      <td>0.0</td>\n",
       "      <td>0.0</td>\n",
       "      <td>0.0</td>\n",
       "      <td>39.0</td>\n",
       "      <td>32.0</td>\n",
       "      <td>3.0</td>\n",
       "      <td>3.0</td>\n",
       "      <td>0.0</td>\n",
       "      <td>6.0</td>\n",
       "      <td>1.0</td>\n",
       "      <td>0.0</td>\n",
       "      <td>0.0</td>\n",
       "      <td>0.0</td>\n",
       "      <td>0.0</td>\n",
       "      <td>0.0</td>\n",
       "      <td>0.0</td>\n",
       "      <td>0.0</td>\n",
       "      <td>0.0</td>\n",
       "      <td>0.0</td>\n",
       "      <td>4.0</td>\n",
       "      <td>0.0</td>\n",
       "      <td>0.0</td>\n",
       "      <td>0.0</td>\n",
       "      <td>0.0</td>\n",
       "      <td>0.0</td>\n",
       "      <td>3.0</td>\n",
       "      <td>1.0</td>\n",
       "      <td>1.0</td>\n",
       "      <td>3.0</td>\n",
       "      <td>0.0</td>\n",
       "      <td>0.0</td>\n",
       "      <td>0.0</td>\n",
       "      <td>0.0</td>\n",
       "      <td>0.0</td>\n",
       "      <td>0.0</td>\n",
       "      <td>0.0</td>\n",
       "      <td>0.0</td>\n",
       "      <td>0.0</td>\n",
       "      <td>0.0</td>\n",
       "      <td>0.0</td>\n",
       "      <td>2004.0</td>\n",
       "      <td>2.0</td>\n",
       "      <td>9.0</td>\n",
       "      <td>26.0</td>\n",
       "      <td>3.0</td>\n",
       "      <td>57.0</td>\n",
       "      <td>0.0</td>\n",
       "      <td>0.0</td>\n",
       "      <td>0.0</td>\n",
       "      <td>0.0</td>\n",
       "      <td>0.0</td>\n",
       "      <td>0.0</td>\n",
       "      <td>5518.0</td>\n",
       "    </tr>\n",
       "    <tr>\n",
       "      <th>3</th>\n",
       "      <td>1139251.0</td>\n",
       "      <td>10.558414</td>\n",
       "      <td>1026470.0</td>\n",
       "      <td>332.0</td>\n",
       "      <td>121.0</td>\n",
       "      <td>3.0</td>\n",
       "      <td>2001.0</td>\n",
       "      <td>3486.0</td>\n",
       "      <td>1.0</td>\n",
       "      <td>3674.0</td>\n",
       "      <td>1375.0</td>\n",
       "      <td>0.0</td>\n",
       "      <td>45.0</td>\n",
       "      <td>0.0</td>\n",
       "      <td>6.0</td>\n",
       "      <td>8.0</td>\n",
       "      <td>44.0</td>\n",
       "      <td>4.0</td>\n",
       "      <td>4.0</td>\n",
       "      <td>0.0</td>\n",
       "      <td>3.0</td>\n",
       "      <td>0.0</td>\n",
       "      <td>0.0</td>\n",
       "      <td>0.0</td>\n",
       "      <td>0.0</td>\n",
       "      <td>0.0</td>\n",
       "      <td>0.0</td>\n",
       "      <td>0.0</td>\n",
       "      <td>0.0</td>\n",
       "      <td>0.0</td>\n",
       "      <td>0.0</td>\n",
       "      <td>1.0</td>\n",
       "      <td>0.0</td>\n",
       "      <td>0.0</td>\n",
       "      <td>0.0</td>\n",
       "      <td>0.0</td>\n",
       "      <td>0.0</td>\n",
       "      <td>3.0</td>\n",
       "      <td>0.0</td>\n",
       "      <td>0.0</td>\n",
       "      <td>0.0</td>\n",
       "      <td>0.0</td>\n",
       "      <td>0.0</td>\n",
       "      <td>0.0</td>\n",
       "      <td>0.0</td>\n",
       "      <td>0.0</td>\n",
       "      <td>0.0</td>\n",
       "      <td>0.0</td>\n",
       "      <td>0.0</td>\n",
       "      <td>0.0</td>\n",
       "      <td>0.0</td>\n",
       "      <td>0.0</td>\n",
       "      <td>2011.0</td>\n",
       "      <td>5.0</td>\n",
       "      <td>20.0</td>\n",
       "      <td>19.0</td>\n",
       "      <td>3.0</td>\n",
       "      <td>139.0</td>\n",
       "      <td>0.0</td>\n",
       "      <td>0.0</td>\n",
       "      <td>0.0</td>\n",
       "      <td>0.0</td>\n",
       "      <td>0.0</td>\n",
       "      <td>0.0</td>\n",
       "      <td>8157.0</td>\n",
       "    </tr>\n",
       "    <tr>\n",
       "      <th>4</th>\n",
       "      <td>1139253.0</td>\n",
       "      <td>9.305651</td>\n",
       "      <td>1057373.0</td>\n",
       "      <td>17311.0</td>\n",
       "      <td>121.0</td>\n",
       "      <td>3.0</td>\n",
       "      <td>2007.0</td>\n",
       "      <td>722.0</td>\n",
       "      <td>3.0</td>\n",
       "      <td>4208.0</td>\n",
       "      <td>1529.0</td>\n",
       "      <td>0.0</td>\n",
       "      <td>0.0</td>\n",
       "      <td>0.0</td>\n",
       "      <td>0.0</td>\n",
       "      <td>40.0</td>\n",
       "      <td>32.0</td>\n",
       "      <td>3.0</td>\n",
       "      <td>3.0</td>\n",
       "      <td>0.0</td>\n",
       "      <td>1.0</td>\n",
       "      <td>1.0</td>\n",
       "      <td>0.0</td>\n",
       "      <td>0.0</td>\n",
       "      <td>0.0</td>\n",
       "      <td>0.0</td>\n",
       "      <td>0.0</td>\n",
       "      <td>0.0</td>\n",
       "      <td>0.0</td>\n",
       "      <td>0.0</td>\n",
       "      <td>0.0</td>\n",
       "      <td>4.0</td>\n",
       "      <td>0.0</td>\n",
       "      <td>0.0</td>\n",
       "      <td>0.0</td>\n",
       "      <td>0.0</td>\n",
       "      <td>0.0</td>\n",
       "      <td>3.0</td>\n",
       "      <td>1.0</td>\n",
       "      <td>1.0</td>\n",
       "      <td>3.0</td>\n",
       "      <td>0.0</td>\n",
       "      <td>0.0</td>\n",
       "      <td>0.0</td>\n",
       "      <td>0.0</td>\n",
       "      <td>0.0</td>\n",
       "      <td>0.0</td>\n",
       "      <td>0.0</td>\n",
       "      <td>0.0</td>\n",
       "      <td>0.0</td>\n",
       "      <td>0.0</td>\n",
       "      <td>0.0</td>\n",
       "      <td>2009.0</td>\n",
       "      <td>7.0</td>\n",
       "      <td>30.0</td>\n",
       "      <td>23.0</td>\n",
       "      <td>3.0</td>\n",
       "      <td>204.0</td>\n",
       "      <td>0.0</td>\n",
       "      <td>0.0</td>\n",
       "      <td>0.0</td>\n",
       "      <td>0.0</td>\n",
       "      <td>0.0</td>\n",
       "      <td>0.0</td>\n",
       "      <td>7492.0</td>\n",
       "    </tr>\n",
       "  </tbody>\n",
       "</table>\n",
       "</div>"
      ],
      "text/plain": [
       "     SalesID  SalePrice  MachineID  ModelID  datasource  auctioneerID  \\\n",
       "0  1139246.0  11.097410   999089.0   3157.0       121.0           3.0   \n",
       "1  1139248.0  10.950807   117657.0     77.0       121.0           3.0   \n",
       "2  1139249.0   9.210340   434808.0   7009.0       121.0           3.0   \n",
       "3  1139251.0  10.558414  1026470.0    332.0       121.0           3.0   \n",
       "4  1139253.0   9.305651  1057373.0  17311.0       121.0           3.0   \n",
       "\n",
       "   YearMade  MachineHoursCurrentMeter  UsageBand  fiModelDesc  fiBaseModel  \\\n",
       "0    2004.0                      68.0        2.0        950.0        296.0   \n",
       "1    1996.0                    4640.0        2.0       1725.0        527.0   \n",
       "2    2001.0                    2838.0        1.0        331.0        110.0   \n",
       "3    2001.0                    3486.0        1.0       3674.0       1375.0   \n",
       "4    2007.0                     722.0        3.0       4208.0       1529.0   \n",
       "\n",
       "   fiSecondaryDesc  fiModelSeries  fiModelDescriptor  ProductSize  \\\n",
       "0             41.0            0.0                0.0          0.0   \n",
       "1             55.0           98.0                0.0          4.0   \n",
       "2              0.0            0.0                0.0          0.0   \n",
       "3              0.0           45.0                0.0          6.0   \n",
       "4              0.0            0.0                0.0          0.0   \n",
       "\n",
       "   fiProductClassDesc  state  ProductGroup  ProductGroupDesc  Drive_System  \\\n",
       "0                59.0    1.0           6.0               6.0           0.0   \n",
       "1                62.0   33.0           6.0               6.0           0.0   \n",
       "2                39.0   32.0           3.0               3.0           0.0   \n",
       "3                 8.0   44.0           4.0               4.0           0.0   \n",
       "4                40.0   32.0           3.0               3.0           0.0   \n",
       "\n",
       "   Enclosure  Forks  Pad_Type  Ride_Control  Stick  Transmission  \\\n",
       "0        3.0    1.0       0.0           2.0    0.0           0.0   \n",
       "1        3.0    1.0       0.0           2.0    0.0           0.0   \n",
       "2        6.0    1.0       0.0           0.0    0.0           0.0   \n",
       "3        3.0    0.0       0.0           0.0    0.0           0.0   \n",
       "4        1.0    1.0       0.0           0.0    0.0           0.0   \n",
       "\n",
       "   Turbocharged  Blade_Extension  Blade_Width  Enclosure_Type  \\\n",
       "0           0.0              0.0          0.0             0.0   \n",
       "1           0.0              0.0          0.0             0.0   \n",
       "2           0.0              0.0          0.0             0.0   \n",
       "3           0.0              0.0          0.0             0.0   \n",
       "4           0.0              0.0          0.0             0.0   \n",
       "\n",
       "   Engine_Horsepower  Hydraulics  Pushblock  Ripper  Scarifier  Tip_Control  \\\n",
       "0                0.0         1.0        0.0     0.0        0.0          0.0   \n",
       "1                0.0         1.0        0.0     0.0        0.0          0.0   \n",
       "2                0.0         4.0        0.0     0.0        0.0          0.0   \n",
       "3                0.0         1.0        0.0     0.0        0.0          0.0   \n",
       "4                0.0         4.0        0.0     0.0        0.0          0.0   \n",
       "\n",
       "   Tire_Size  Coupler  Coupler_System  Grouser_Tracks  Hydraulics_Flow  \\\n",
       "0       17.0      3.0             0.0             0.0              0.0   \n",
       "1       12.0      3.0             0.0             0.0              0.0   \n",
       "2        0.0      3.0             1.0             1.0              3.0   \n",
       "3        0.0      3.0             0.0             0.0              0.0   \n",
       "4        0.0      3.0             1.0             1.0              3.0   \n",
       "\n",
       "   Track_Type  Undercarriage_Pad_Width  Stick_Length  Thumb  Pattern_Changer  \\\n",
       "0         0.0                      0.0           0.0    0.0              0.0   \n",
       "1         0.0                      0.0           0.0    0.0              0.0   \n",
       "2         0.0                      0.0           0.0    0.0              0.0   \n",
       "3         0.0                      0.0           0.0    0.0              0.0   \n",
       "4         0.0                      0.0           0.0    0.0              0.0   \n",
       "\n",
       "   Grouser_Type  Backhoe_Mounting  Blade_Type  Travel_Controls  \\\n",
       "0           0.0               0.0         0.0              0.0   \n",
       "1           0.0               0.0         0.0              0.0   \n",
       "2           0.0               0.0         0.0              0.0   \n",
       "3           0.0               0.0         0.0              0.0   \n",
       "4           0.0               0.0         0.0              0.0   \n",
       "\n",
       "   Differential_Type  Steering_Controls  saleYear  saleMonth  saleWeek  \\\n",
       "0                4.0                2.0    2006.0       11.0      46.0   \n",
       "1                4.0                2.0    2004.0        3.0      13.0   \n",
       "2                0.0                0.0    2004.0        2.0       9.0   \n",
       "3                0.0                0.0    2011.0        5.0      20.0   \n",
       "4                0.0                0.0    2009.0        7.0      30.0   \n",
       "\n",
       "   saleDay  saleDayofweek  saleDayofyear  saleIs_month_end  \\\n",
       "0     16.0            3.0          320.0               0.0   \n",
       "1     26.0            4.0           86.0               0.0   \n",
       "2     26.0            3.0           57.0               0.0   \n",
       "3     19.0            3.0          139.0               0.0   \n",
       "4     23.0            3.0          204.0               0.0   \n",
       "\n",
       "   saleIs_month_start  saleIs_quarter_end  saleIs_quarter_start  \\\n",
       "0                 0.0                 0.0                   0.0   \n",
       "1                 0.0                 0.0                   0.0   \n",
       "2                 0.0                 0.0                   0.0   \n",
       "3                 0.0                 0.0                   0.0   \n",
       "4                 0.0                 0.0                   0.0   \n",
       "\n",
       "   saleIs_year_end  saleIs_year_start  saleElapsed  \n",
       "0              0.0                0.0       6512.0  \n",
       "1              0.0                0.0       5547.0  \n",
       "2              0.0                0.0       5518.0  \n",
       "3              0.0                0.0       8157.0  \n",
       "4              0.0                0.0       7492.0  "
      ]
     },
     "execution_count": 12,
     "metadata": {},
     "output_type": "execute_result"
    }
   ],
   "source": [
    "cleaned_data.head()"
   ]
  },
  {
   "cell_type": "markdown",
   "metadata": {},
   "source": [
    "### split into train test dataset"
   ]
  },
  {
   "cell_type": "code",
   "execution_count": 13,
   "metadata": {},
   "outputs": [],
   "source": [
    "## split data into training and validation set\n",
    "## we want to keep the latest data for the test set hence we \n",
    "## sort the values before splitting the dataset manually\n",
    "cleaned_data.sort_values(by=['saleYear', 'saleMonth', 'saleDay'], inplace=True, ascending=True)\n",
    "\n",
    "test_set_len = round(cleaned_data.shape[0]*0.05)\n",
    "train_set_len = cleaned_data.shape[0] - test_set_len\n",
    "\n",
    "def split_data(df, lenth_of_split):\n",
    "    return df[:lenth_of_split], df[lenth_of_split:]\n",
    "\n",
    "train_df, test_df = split_data(cleaned_data, train_set_len)"
   ]
  },
  {
   "cell_type": "code",
   "execution_count": 14,
   "metadata": {},
   "outputs": [],
   "source": [
    "# get X_train, y_train, X_test, y_test\n",
    "y_train = train_df['SalePrice'].values\n",
    "X_train = train_df.drop(['SalePrice'], axis=1)\n",
    "\n",
    "y_test = test_df['SalePrice'].values\n",
    "X_test = test_df.drop(['SalePrice'], axis=1)"
   ]
  },
  {
   "cell_type": "code",
   "execution_count": 15,
   "metadata": {},
   "outputs": [
    {
     "name": "stdout",
     "output_type": "stream",
     "text": [
      "(381069, 64) (381069,) (20056, 64) (20056,)\n"
     ]
    }
   ],
   "source": [
    "print(X_train.shape, y_train.shape, X_test.shape, y_test.shape)"
   ]
  },
  {
   "cell_type": "markdown",
   "metadata": {},
   "source": [
    "### modelling"
   ]
  },
  {
   "cell_type": "code",
   "execution_count": 16,
   "metadata": {},
   "outputs": [
    {
     "data": {
      "text/plain": [
       "RandomForestRegressor(bootstrap=True, ccp_alpha=0.0, criterion='mse',\n",
       "                      max_depth=None, max_features=0.5, max_leaf_nodes=None,\n",
       "                      max_samples=None, min_impurity_decrease=0.0,\n",
       "                      min_impurity_split=None, min_samples_leaf=1,\n",
       "                      min_samples_split=2, min_weight_fraction_leaf=0.0,\n",
       "                      n_estimators=30, n_jobs=-1, oob_score=False,\n",
       "                      random_state=None, verbose=0, warm_start=False)"
      ]
     },
     "execution_count": 16,
     "metadata": {},
     "output_type": "execute_result"
    }
   ],
   "source": [
    "m = RandomForestRegressor(n_jobs=-1, n_estimators=30, max_features=0.5)\n",
    "m.fit(X_train, y_train)"
   ]
  },
  {
   "cell_type": "code",
   "execution_count": 17,
   "metadata": {},
   "outputs": [
    {
     "data": {
      "text/plain": [
       "0.8852071895789733"
      ]
     },
     "execution_count": 17,
     "metadata": {},
     "output_type": "execute_result"
    }
   ],
   "source": [
    "# score the test set data\n",
    "m.score(X_test, y_test)"
   ]
  },
  {
   "cell_type": "code",
   "execution_count": 18,
   "metadata": {},
   "outputs": [
    {
     "data": {
      "text/plain": [
       "0.2422578213234652"
      ]
     },
     "execution_count": 18,
     "metadata": {},
     "output_type": "execute_result"
    }
   ],
   "source": [
    "# get the RMLSE\n",
    "mean_squared_error(y_test, m.predict(X_test), squared=False)"
   ]
  },
  {
   "cell_type": "markdown",
   "metadata": {},
   "source": [
    "## RF exploration"
   ]
  },
  {
   "cell_type": "code",
   "execution_count": 19,
   "metadata": {},
   "outputs": [
    {
     "name": "stdout",
     "output_type": "stream",
     "text": [
      "9.604102515729734\n",
      "9.852194258148577\n"
     ]
    }
   ],
   "source": [
    "# explore the prediction of each tree and find the mean\n",
    "preds = np.stack([t.predict(X_test) for t in m.estimators_])\n",
    "print(np.mean(preds[:, 0]))\n",
    "print(y_test[0])"
   ]
  },
  {
   "cell_type": "code",
   "execution_count": 20,
   "metadata": {},
   "outputs": [
    {
     "data": {
      "text/plain": [
       "9.604102515729737"
      ]
     },
     "execution_count": 20,
     "metadata": {},
     "output_type": "execute_result"
    }
   ],
   "source": [
    "m.predict(X_test)[0]"
   ]
  },
  {
   "cell_type": "code",
   "execution_count": 21,
   "metadata": {},
   "outputs": [
    {
     "data": {
      "text/plain": [
       "(30, 20056)"
      ]
     },
     "execution_count": 21,
     "metadata": {},
     "output_type": "execute_result"
    }
   ],
   "source": [
    "preds.shape"
   ]
  },
  {
   "cell_type": "code",
   "execution_count": 22,
   "metadata": {},
   "outputs": [
    {
     "data": {
      "text/plain": [
       "[<matplotlib.lines.Line2D at 0x2054da68d88>]"
      ]
     },
     "execution_count": 22,
     "metadata": {},
     "output_type": "execute_result"
    },
    {
     "data": {
      "image/png": "[encoded data removed]",
      "text/plain": [
       "<Figure size 432x288 with 1 Axes>"
      ]
     },
     "metadata": {
      "needs_background": "light"
     },
     "output_type": "display_data"
    }
   ],
   "source": [
    "plt.plot([mean_squared_error(y_test, np.mean(preds[:i+1], axis=0), squared=False) for i in range(40)])"
   ]
  },
  {
   "cell_type": "markdown",
   "metadata": {},
   "source": [
    "Here we can see that the mean squared error seems to have stabilised at around 35 trees. So we should keep the number of trees\n",
    "(the `n_estimator` parameter) in the Random Forest model to 35 to prevent overfitting)"
   ]
  },
  {
   "cell_type": "markdown",
   "metadata": {},
   "source": [
    "#### Feature Importances"
   ]
  },
  {
   "cell_type": "code",
   "execution_count": 23,
   "metadata": {},
   "outputs": [
    {
     "data": {
      "text/plain": [
       "array([3.14521136e-02, 2.01795591e-02, 5.70623786e-02, 1.15587959e-03,\n",
       "       4.58244173e-03, 1.64713970e-01, 2.50116495e-03, 9.24458973e-04,\n",
       "       3.06874021e-02, 2.40843756e-02, 4.71719852e-02, 4.30545139e-03,\n",
       "       2.44105024e-02, 9.46597015e-02, 6.60260708e-02, 7.72947816e-03,\n",
       "       1.01805714e-02, 4.85621516e-03, 8.85245339e-03, 4.17238021e-02,\n",
       "       9.51242389e-04, 1.77902973e-03, 6.95060076e-04, 2.27737439e-03,\n",
       "       1.37203455e-03, 2.39362898e-03, 1.47652766e-04, 2.91227506e-04,\n",
       "       2.58436501e-03, 9.39840096e-04, 1.00805877e-02, 1.70412791e-03,\n",
       "       3.63095612e-03, 4.22735315e-04, 1.29954809e-03, 1.06877329e-02,\n",
       "       1.28583536e-03, 9.42270187e-02, 4.47997214e-02, 5.43727663e-02,\n",
       "       2.70884295e-03, 1.08090362e-03, 3.55336082e-03, 6.04397534e-04,\n",
       "       3.40842141e-04, 5.00278453e-04, 4.48773143e-04, 2.63038960e-03,\n",
       "       1.65615410e-03, 2.13316860e-04, 2.24951491e-04, 1.99131375e-02,\n",
       "       2.88539848e-03, 5.41065769e-03, 7.40057294e-03, 4.02466411e-03,\n",
       "       7.63789260e-03, 2.92760784e-04, 2.23684188e-04, 1.96325831e-04,\n",
       "       1.30137616e-04, 7.71504592e-09, 0.00000000e+00, 5.47200884e-02])"
      ]
     },
     "execution_count": 23,
     "metadata": {},
     "output_type": "execute_result"
    }
   ],
   "source": [
    "## get feature importances\n",
    "importances = m.feature_importances_\n",
    "importances"
   ]
  },
  {
   "cell_type": "markdown",
   "metadata": {},
   "source": [
    "### modeling version 2 - IMP features only"
   ]
  },
  {
   "cell_type": "code",
   "execution_count": 24,
   "metadata": {},
   "outputs": [
    {
     "data": {
      "text/plain": [
       "<matplotlib.axes._subplots.AxesSubplot at 0x2050ccb4548>"
      ]
     },
     "execution_count": 24,
     "metadata": {},
     "output_type": "execute_result"
    },
    {
     "data": {
      "image/png": "[encoded data removed]",
      "text/plain": [
       "<Figure size 720x1080 with 1 Axes>"
      ]
     },
     "metadata": {
      "needs_background": "light"
     },
     "output_type": "display_data"
    }
   ],
   "source": [
    "## plot feature importances\n",
    "imp_series = pd.Series(m.feature_importances_, index=X_train.columns).sort_values()[25:]\n",
    "imp_series.plot(kind='barh', figsize=(10,15), sort_columns=True)"
   ]
  },
  {
   "cell_type": "markdown",
   "metadata": {},
   "source": [
    "We can remove the less important features to get a clean and lean feature set and make ensure the data has more signal than noise"
   ]
  },
  {
   "cell_type": "code",
   "execution_count": 25,
   "metadata": {},
   "outputs": [
    {
     "data": {
      "text/plain": [
       "['Stick',\n",
       " 'Turbocharged',\n",
       " 'MachineHoursCurrentMeter',\n",
       " 'Enclosure_Type',\n",
       " 'Blade_Type',\n",
       " 'Track_Type',\n",
       " 'saleMonth',\n",
       " 'Stick_Length',\n",
       " 'Ripper',\n",
       " 'saleDayofweek',\n",
       " 'fiModelSeries',\n",
       " 'auctioneerID',\n",
       " 'ProductGroupDesc',\n",
       " 'saleWeek',\n",
       " 'saleDay',\n",
       " 'saleDayofyear',\n",
       " 'state',\n",
       " 'Drive_System',\n",
       " 'Hydraulics',\n",
       " 'ProductGroup',\n",
       " 'Tire_Size',\n",
       " 'saleYear',\n",
       " 'MachineID',\n",
       " 'fiBaseModel',\n",
       " 'fiModelDescriptor',\n",
       " 'fiModelDesc',\n",
       " 'SalesID',\n",
       " 'Enclosure',\n",
       " 'Grouser_Tracks',\n",
       " 'fiSecondaryDesc',\n",
       " 'Hydraulics_Flow',\n",
       " 'saleElapsed',\n",
       " 'ModelID',\n",
       " 'fiProductClassDesc',\n",
       " 'Coupler_System',\n",
       " 'ProductSize',\n",
       " 'YearMade']"
      ]
     },
     "execution_count": 25,
     "metadata": {},
     "output_type": "execute_result"
    }
   ],
   "source": [
    "## capturing only important features (features having importance as >= 0.02)\n",
    "imp_only_columns = imp_series.where(imp_series >= 0.002).dropna().index.to_list()\n",
    "imp_only_columns"
   ]
  },
  {
   "cell_type": "code",
   "execution_count": 26,
   "metadata": {},
   "outputs": [],
   "source": [
    "X_train_imp_cols = X_train[imp_only_columns]\n",
    "X_test_imp_cols = X_test[imp_only_columns]"
   ]
  },
  {
   "cell_type": "code",
   "execution_count": 27,
   "metadata": {},
   "outputs": [
    {
     "name": "stdout",
     "output_type": "stream",
     "text": [
      "(381069, 37) (381069,) (20056, 37) (20056,)\n"
     ]
    }
   ],
   "source": [
    "print(X_train_imp_cols.shape, y_train.shape, X_test_imp_cols.shape, y_test.shape)"
   ]
  },
  {
   "cell_type": "markdown",
   "metadata": {},
   "source": [
    "#### retrain the model on important features only"
   ]
  },
  {
   "cell_type": "code",
   "execution_count": 28,
   "metadata": {},
   "outputs": [
    {
     "data": {
      "text/plain": [
       "RandomForestRegressor(bootstrap=True, ccp_alpha=0.0, criterion='mse',\n",
       "                      max_depth=None, max_features=0.5, max_leaf_nodes=None,\n",
       "                      max_samples=None, min_impurity_decrease=0.0,\n",
       "                      min_impurity_split=None, min_samples_leaf=1,\n",
       "                      min_samples_split=2, min_weight_fraction_leaf=0.0,\n",
       "                      n_estimators=30, n_jobs=-1, oob_score=False,\n",
       "                      random_state=None, verbose=0, warm_start=False)"
      ]
     },
     "execution_count": 28,
     "metadata": {},
     "output_type": "execute_result"
    }
   ],
   "source": [
    "## retraining the model with only important columns\n",
    "m1 = RandomForestRegressor(n_jobs=-1, n_estimators=30, max_features=0.5)\n",
    "m1.fit(X_train_imp_cols, y_train)"
   ]
  },
  {
   "cell_type": "code",
   "execution_count": 29,
   "metadata": {},
   "outputs": [
    {
     "data": {
      "text/plain": [
       "0.8843502224914048"
      ]
     },
     "execution_count": 29,
     "metadata": {},
     "output_type": "execute_result"
    }
   ],
   "source": [
    "# score\n",
    "m1.score(X_test_imp_cols, y_test)"
   ]
  },
  {
   "cell_type": "code",
   "execution_count": 30,
   "metadata": {},
   "outputs": [
    {
     "data": {
      "text/plain": [
       "0.24316040814198123"
      ]
     },
     "execution_count": 30,
     "metadata": {},
     "output_type": "execute_result"
    }
   ],
   "source": [
    "# get the RMLSE\n",
    "mean_squared_error(y_test, m1.predict(X_test_imp_cols), squared=False)"
   ]
  },
  {
   "cell_type": "code",
   "execution_count": 31,
   "metadata": {},
   "outputs": [
    {
     "data": {
      "text/plain": [
       "array([0.00151675, 0.00109567, 0.00294666, 0.00285623, 0.00516351,\n",
       "       0.00657723, 0.00309285, 0.00509131, 0.0041073 , 0.00426614,\n",
       "       0.00504212, 0.0048625 , 0.00347501, 0.00577071, 0.00796849,\n",
       "       0.00806848, 0.0081627 , 0.01290419, 0.00965402, 0.00347473,\n",
       "       0.01287778, 0.0216323 , 0.02115342, 0.0201606 , 0.03262691,\n",
       "       0.03457145, 0.03157131, 0.02992447, 0.03354212, 0.04857249,\n",
       "       0.07348584, 0.05460506, 0.05392235, 0.08199821, 0.08908389,\n",
       "       0.08869434, 0.16548086])"
      ]
     },
     "execution_count": 31,
     "metadata": {},
     "output_type": "execute_result"
    }
   ],
   "source": [
    "## get feature importances\n",
    "importances = m1.feature_importances_\n",
    "importances"
   ]
  },
  {
   "cell_type": "code",
   "execution_count": 32,
   "metadata": {},
   "outputs": [
    {
     "data": {
      "text/plain": [
       "<matplotlib.axes._subplots.AxesSubplot at 0x2050dc39388>"
      ]
     },
     "execution_count": 32,
     "metadata": {},
     "output_type": "execute_result"
    },
    {
     "data": {
      "image/png": "[encoded data removed]",
      "text/plain": [
       "<Figure size 720x1080 with 1 Axes>"
      ]
     },
     "metadata": {
      "needs_background": "light"
     },
     "output_type": "display_data"
    }
   ],
   "source": [
    "## get feature importances of new model\n",
    "## plot feature importances\n",
    "imp_series = pd.Series(m1.feature_importances_, index=X_train_imp_cols.columns).sort_values()\n",
    "imp_series.plot(kind='barh', figsize=(10,15), sort_columns=True)"
   ]
  },
  {
   "cell_type": "markdown",
   "metadata": {},
   "source": [
    "From this we can observe that feature importance has changed with year made and coupler systems being the most important fetures when predicting the sale price"
   ]
  },
  {
   "cell_type": "markdown",
   "metadata": {},
   "source": [
    "### modelling v3 - imp features + one hot encoded columns"
   ]
  },
  {
   "cell_type": "code",
   "execution_count": 33,
   "metadata": {},
   "outputs": [],
   "source": [
    "# add function for one hot encoding\n",
    "def one_hot_encode_df(raw_data):\n",
    "    for colname, col in raw_data.items():\n",
    "        if not pd.api.types.is_numeric_dtype(col) and raw_data[colname].nunique() <= 7:\n",
    "            print(f\"processing column {colname}\")\n",
    "            oneHotEncoded = pd.get_dummies(raw_data[colname], prefix=colname, dummy_na=True)\n",
    "            #raw_data.drop(colname, axis=1, inplace = True)\n",
    "            raw_data = pd.concat([raw_data, oneHotEncoded], axis=1)\n",
    "    return raw_data"
   ]
  },
  {
   "cell_type": "markdown",
   "metadata": {},
   "source": [
    "We re-ingest the data and perform one hot encoding on select variables (where the number of unique values in the column is =< 7) to have more features and see if one feature/value of feautre holds more importance"
   ]
  },
  {
   "cell_type": "code",
   "execution_count": 34,
   "metadata": {},
   "outputs": [],
   "source": [
    "raw_data = pd.read_csv('bulldozers_train_data.csv', low_memory=False, parse_dates=['saledate'])"
   ]
  },
  {
   "cell_type": "code",
   "execution_count": 35,
   "metadata": {},
   "outputs": [],
   "source": [
    "# transform the sale price to log data\n",
    "raw_data['SalePrice'] = np.log(raw_data['SalePrice'])\n",
    "\n",
    "# add date part\n",
    "raw_data = add_datepart(raw_data, 'saledate')\n",
    "\n",
    "# keep only imp columns\n",
    "raw_data = raw_data[imp_only_columns+['SalePrice']]"
   ]
  },
  {
   "cell_type": "code",
   "execution_count": 36,
   "metadata": {
    "scrolled": true
   },
   "outputs": [
    {
     "data": {
      "text/plain": [
       "array([[<matplotlib.axes._subplots.AxesSubplot object at 0x000002050DEBB088>]],\n",
       "      dtype=object)"
      ]
     },
     "execution_count": 36,
     "metadata": {},
     "output_type": "execute_result"
    },
    {
     "data": {
      "image/png": "[encoded data removed]",
      "text/plain": [
       "<Figure size 432x288 with 1 Axes>"
      ]
     },
     "metadata": {
      "needs_background": "light"
     },
     "output_type": "display_data"
    }
   ],
   "source": [
    "#explore the year made column\n",
    "raw_data.hist(column='YearMade')"
   ]
  },
  {
   "cell_type": "markdown",
   "metadata": {},
   "source": [
    "We can see that a lot of records have a YearMade value in year 1000. We will assume they were all manufactured in 1950"
   ]
  },
  {
   "cell_type": "code",
   "execution_count": 37,
   "metadata": {},
   "outputs": [
    {
     "name": "stdout",
     "output_type": "stream",
     "text": [
      "count of rows : 401125\n",
      "count of null values: 0\n"
     ]
    }
   ],
   "source": [
    "print(f\"count of rows : {raw_data['YearMade'].count()}\")\n",
    "print(f\"count of null values: {raw_data['YearMade'].isnull().values.sum()}\")"
   ]
  },
  {
   "cell_type": "code",
   "execution_count": 38,
   "metadata": {},
   "outputs": [],
   "source": [
    "raw_data.loc[raw_data['YearMade'] < 1950, 'YearMade'] = 1950"
   ]
  },
  {
   "cell_type": "code",
   "execution_count": 39,
   "metadata": {},
   "outputs": [
    {
     "name": "stdout",
     "output_type": "stream",
     "text": [
      "processing column Stick\n",
      "processing column Turbocharged\n",
      "processing column Enclosure_Type\n",
      "processing column Track_Type\n",
      "processing column Ripper\n",
      "processing column ProductGroupDesc\n",
      "processing column Drive_System\n",
      "processing column ProductGroup\n",
      "processing column Enclosure\n",
      "processing column Grouser_Tracks\n",
      "processing column Hydraulics_Flow\n",
      "processing column Coupler_System\n",
      "processing column ProductSize\n"
     ]
    }
   ],
   "source": [
    "# one hot encode raw data\n",
    "raw_data = one_hot_encode_df(raw_data)"
   ]
  },
  {
   "cell_type": "code",
   "execution_count": 40,
   "metadata": {},
   "outputs": [],
   "source": [
    "# convert non numeric values to categories\n",
    "for n, c in raw_data.items():\n",
    "    if n == 'SalePrice':\n",
    "        continue\n",
    "    #print(f\"processing column {n}\")\n",
    "    numericalize(raw_data, c, n)"
   ]
  },
  {
   "cell_type": "code",
   "execution_count": 41,
   "metadata": {},
   "outputs": [],
   "source": [
    "# fill missing variables\n",
    "cleaned_data = fill_missing_vals(raw_data, 'median')"
   ]
  },
  {
   "cell_type": "code",
   "execution_count": 42,
   "metadata": {},
   "outputs": [
    {
     "data": {
      "text/plain": [
       "Index(['Stick', 'Turbocharged', 'MachineHoursCurrentMeter', 'Enclosure_Type',\n",
       "       'Blade_Type', 'Track_Type', 'saleMonth', 'Stick_Length', 'Ripper',\n",
       "       'saleDayofweek', 'fiModelSeries', 'auctioneerID', 'ProductGroupDesc',\n",
       "       'saleWeek', 'saleDay', 'saleDayofyear', 'state', 'Drive_System',\n",
       "       'Hydraulics', 'ProductGroup', 'Tire_Size', 'saleYear', 'MachineID',\n",
       "       'fiBaseModel', 'fiModelDescriptor', 'fiModelDesc', 'SalesID',\n",
       "       'Enclosure', 'Grouser_Tracks', 'fiSecondaryDesc', 'Hydraulics_Flow',\n",
       "       'saleElapsed', 'ModelID', 'fiProductClassDesc', 'Coupler_System',\n",
       "       'ProductSize', 'YearMade', 'SalePrice', 'Stick_Extended',\n",
       "       'Stick_Standard', 'Stick_nan', 'Turbocharged_None or Unspecified',\n",
       "       'Turbocharged_Yes', 'Turbocharged_nan', 'Enclosure_Type_High Profile',\n",
       "       'Enclosure_Type_Low Profile', 'Enclosure_Type_None or Unspecified',\n",
       "       'Enclosure_Type_nan', 'Track_Type_Rubber', 'Track_Type_Steel',\n",
       "       'Track_Type_nan', 'Ripper_Multi Shank', 'Ripper_None or Unspecified',\n",
       "       'Ripper_Single Shank', 'Ripper_Yes', 'Ripper_nan',\n",
       "       'ProductGroupDesc_Backhoe Loaders', 'ProductGroupDesc_Motor Graders',\n",
       "       'ProductGroupDesc_Skid Steer Loaders',\n",
       "       'ProductGroupDesc_Track Excavators',\n",
       "       'ProductGroupDesc_Track Type Tractors', 'ProductGroupDesc_Wheel Loader',\n",
       "       'ProductGroupDesc_nan', 'Drive_System_All Wheel Drive',\n",
       "       'Drive_System_Four Wheel Drive', 'Drive_System_No',\n",
       "       'Drive_System_Two Wheel Drive', 'Drive_System_nan', 'ProductGroup_BL',\n",
       "       'ProductGroup_MG', 'ProductGroup_SSL', 'ProductGroup_TEX',\n",
       "       'ProductGroup_TTT', 'ProductGroup_WL', 'ProductGroup_nan',\n",
       "       'Enclosure_EROPS', 'Enclosure_EROPS AC', 'Enclosure_EROPS w AC',\n",
       "       'Enclosure_NO ROPS', 'Enclosure_None or Unspecified', 'Enclosure_OROPS',\n",
       "       'Enclosure_nan', 'Grouser_Tracks_None or Unspecified',\n",
       "       'Grouser_Tracks_Yes', 'Grouser_Tracks_nan', 'Hydraulics_Flow_High Flow',\n",
       "       'Hydraulics_Flow_None or Unspecified', 'Hydraulics_Flow_Standard',\n",
       "       'Hydraulics_Flow_nan', 'Coupler_System_None or Unspecified',\n",
       "       'Coupler_System_Yes', 'Coupler_System_nan', 'ProductSize_Compact',\n",
       "       'ProductSize_Large', 'ProductSize_Large / Medium', 'ProductSize_Medium',\n",
       "       'ProductSize_Mini', 'ProductSize_Small', 'ProductSize_nan'],\n",
       "      dtype='object')"
      ]
     },
     "execution_count": 42,
     "metadata": {},
     "output_type": "execute_result"
    }
   ],
   "source": [
    "cleaned_data.columns"
   ]
  },
  {
   "cell_type": "code",
   "execution_count": 43,
   "metadata": {},
   "outputs": [],
   "source": [
    "## split data into training and validation set\n",
    "## we want to keep the latest data for the test set hence we \n",
    "## sort the values before splitting the dataset manually\n",
    "cleaned_data.sort_values(by=['saleYear', 'saleMonth', 'saleDay'], inplace=True, ascending=True)\n",
    "\n",
    "test_set_len = round(cleaned_data.shape[0]*0.05)\n",
    "train_set_len = cleaned_data.shape[0] - test_set_len\n",
    "\n",
    "def split_data(df, lenth_of_split):\n",
    "    return df[:lenth_of_split], df[lenth_of_split:]\n",
    "\n",
    "train_df, test_df = split_data(cleaned_data, train_set_len)"
   ]
  },
  {
   "cell_type": "code",
   "execution_count": 44,
   "metadata": {},
   "outputs": [
    {
     "data": {
      "text/plain": [
       "(381069, 99)"
      ]
     },
     "execution_count": 44,
     "metadata": {},
     "output_type": "execute_result"
    }
   ],
   "source": [
    "train_df.shape"
   ]
  },
  {
   "cell_type": "code",
   "execution_count": 45,
   "metadata": {},
   "outputs": [
    {
     "data": {
      "text/plain": [
       "(20056, 99)"
      ]
     },
     "execution_count": 45,
     "metadata": {},
     "output_type": "execute_result"
    }
   ],
   "source": [
    "test_df.shape"
   ]
  },
  {
   "cell_type": "code",
   "execution_count": 46,
   "metadata": {},
   "outputs": [],
   "source": [
    "# get X_train, y_train, X_test, y_test\n",
    "y_train2 = train_df['SalePrice'].values\n",
    "X_train2 = train_df.drop(['SalePrice'], axis=1)\n",
    "\n",
    "y_test2 = test_df['SalePrice'].values\n",
    "X_test2 = test_df.drop(['SalePrice'], axis=1)"
   ]
  },
  {
   "cell_type": "code",
   "execution_count": 47,
   "metadata": {},
   "outputs": [
    {
     "name": "stdout",
     "output_type": "stream",
     "text": [
      "(381069, 98) (381069,) (20056, 98) (20056,)\n"
     ]
    }
   ],
   "source": [
    "print(X_train2.shape, y_train2.shape, X_test2.shape, y_test2.shape)"
   ]
  },
  {
   "cell_type": "code",
   "execution_count": 48,
   "metadata": {},
   "outputs": [
    {
     "data": {
      "text/html": [
       "<div>\n",
       "<style scoped>\n",
       "    .dataframe tbody tr th:only-of-type {\n",
       "        vertical-align: middle;\n",
       "    }\n",
       "\n",
       "    .dataframe tbody tr th {\n",
       "        vertical-align: top;\n",
       "    }\n",
       "\n",
       "    .dataframe thead th {\n",
       "        text-align: right;\n",
       "    }\n",
       "</style>\n",
       "<table border=\"1\" class=\"dataframe\">\n",
       "  <thead>\n",
       "    <tr style=\"text-align: right;\">\n",
       "      <th></th>\n",
       "      <th>Stick</th>\n",
       "      <th>Turbocharged</th>\n",
       "      <th>MachineHoursCurrentMeter</th>\n",
       "      <th>Enclosure_Type</th>\n",
       "      <th>Blade_Type</th>\n",
       "      <th>Track_Type</th>\n",
       "      <th>saleMonth</th>\n",
       "      <th>Stick_Length</th>\n",
       "      <th>Ripper</th>\n",
       "      <th>saleDayofweek</th>\n",
       "      <th>fiModelSeries</th>\n",
       "      <th>auctioneerID</th>\n",
       "      <th>ProductGroupDesc</th>\n",
       "      <th>saleWeek</th>\n",
       "      <th>saleDay</th>\n",
       "      <th>saleDayofyear</th>\n",
       "      <th>state</th>\n",
       "      <th>Drive_System</th>\n",
       "      <th>Hydraulics</th>\n",
       "      <th>ProductGroup</th>\n",
       "      <th>Tire_Size</th>\n",
       "      <th>saleYear</th>\n",
       "      <th>MachineID</th>\n",
       "      <th>fiBaseModel</th>\n",
       "      <th>fiModelDescriptor</th>\n",
       "      <th>fiModelDesc</th>\n",
       "      <th>SalesID</th>\n",
       "      <th>Enclosure</th>\n",
       "      <th>Grouser_Tracks</th>\n",
       "      <th>fiSecondaryDesc</th>\n",
       "      <th>Hydraulics_Flow</th>\n",
       "      <th>saleElapsed</th>\n",
       "      <th>ModelID</th>\n",
       "      <th>fiProductClassDesc</th>\n",
       "      <th>Coupler_System</th>\n",
       "      <th>ProductSize</th>\n",
       "      <th>YearMade</th>\n",
       "      <th>Stick_Extended</th>\n",
       "      <th>Stick_Standard</th>\n",
       "      <th>Stick_nan</th>\n",
       "      <th>Turbocharged_None or Unspecified</th>\n",
       "      <th>Turbocharged_Yes</th>\n",
       "      <th>Turbocharged_nan</th>\n",
       "      <th>Enclosure_Type_High Profile</th>\n",
       "      <th>Enclosure_Type_Low Profile</th>\n",
       "      <th>Enclosure_Type_None or Unspecified</th>\n",
       "      <th>Enclosure_Type_nan</th>\n",
       "      <th>Track_Type_Rubber</th>\n",
       "      <th>Track_Type_Steel</th>\n",
       "      <th>Track_Type_nan</th>\n",
       "      <th>Ripper_Multi Shank</th>\n",
       "      <th>Ripper_None or Unspecified</th>\n",
       "      <th>Ripper_Single Shank</th>\n",
       "      <th>Ripper_Yes</th>\n",
       "      <th>Ripper_nan</th>\n",
       "      <th>ProductGroupDesc_Backhoe Loaders</th>\n",
       "      <th>ProductGroupDesc_Motor Graders</th>\n",
       "      <th>ProductGroupDesc_Skid Steer Loaders</th>\n",
       "      <th>ProductGroupDesc_Track Excavators</th>\n",
       "      <th>ProductGroupDesc_Track Type Tractors</th>\n",
       "      <th>ProductGroupDesc_Wheel Loader</th>\n",
       "      <th>ProductGroupDesc_nan</th>\n",
       "      <th>Drive_System_All Wheel Drive</th>\n",
       "      <th>Drive_System_Four Wheel Drive</th>\n",
       "      <th>Drive_System_No</th>\n",
       "      <th>Drive_System_Two Wheel Drive</th>\n",
       "      <th>Drive_System_nan</th>\n",
       "      <th>ProductGroup_BL</th>\n",
       "      <th>ProductGroup_MG</th>\n",
       "      <th>ProductGroup_SSL</th>\n",
       "      <th>ProductGroup_TEX</th>\n",
       "      <th>ProductGroup_TTT</th>\n",
       "      <th>ProductGroup_WL</th>\n",
       "      <th>ProductGroup_nan</th>\n",
       "      <th>Enclosure_EROPS</th>\n",
       "      <th>Enclosure_EROPS AC</th>\n",
       "      <th>Enclosure_EROPS w AC</th>\n",
       "      <th>Enclosure_NO ROPS</th>\n",
       "      <th>Enclosure_None or Unspecified</th>\n",
       "      <th>Enclosure_OROPS</th>\n",
       "      <th>Enclosure_nan</th>\n",
       "      <th>Grouser_Tracks_None or Unspecified</th>\n",
       "      <th>Grouser_Tracks_Yes</th>\n",
       "      <th>Grouser_Tracks_nan</th>\n",
       "      <th>Hydraulics_Flow_High Flow</th>\n",
       "      <th>Hydraulics_Flow_None or Unspecified</th>\n",
       "      <th>Hydraulics_Flow_Standard</th>\n",
       "      <th>Hydraulics_Flow_nan</th>\n",
       "      <th>Coupler_System_None or Unspecified</th>\n",
       "      <th>Coupler_System_Yes</th>\n",
       "      <th>Coupler_System_nan</th>\n",
       "      <th>ProductSize_Compact</th>\n",
       "      <th>ProductSize_Large</th>\n",
       "      <th>ProductSize_Large / Medium</th>\n",
       "      <th>ProductSize_Medium</th>\n",
       "      <th>ProductSize_Mini</th>\n",
       "      <th>ProductSize_Small</th>\n",
       "      <th>ProductSize_nan</th>\n",
       "    </tr>\n",
       "  </thead>\n",
       "  <tbody>\n",
       "    <tr>\n",
       "      <th>205615</th>\n",
       "      <td>0.0</td>\n",
       "      <td>0.0</td>\n",
       "      <td>0.0</td>\n",
       "      <td>0.0</td>\n",
       "      <td>8.0</td>\n",
       "      <td>0.0</td>\n",
       "      <td>1.0</td>\n",
       "      <td>0.0</td>\n",
       "      <td>2.0</td>\n",
       "      <td>1.0</td>\n",
       "      <td>0.0</td>\n",
       "      <td>18.0</td>\n",
       "      <td>5.0</td>\n",
       "      <td>3.0</td>\n",
       "      <td>17.0</td>\n",
       "      <td>17.0</td>\n",
       "      <td>44.0</td>\n",
       "      <td>0.0</td>\n",
       "      <td>1.0</td>\n",
       "      <td>5.0</td>\n",
       "      <td>0.0</td>\n",
       "      <td>1989.0</td>\n",
       "      <td>1126363.0</td>\n",
       "      <td>1735.0</td>\n",
       "      <td>0.0</td>\n",
       "      <td>4537.0</td>\n",
       "      <td>1646770.0</td>\n",
       "      <td>6.0</td>\n",
       "      <td>0.0</td>\n",
       "      <td>0.0</td>\n",
       "      <td>0.0</td>\n",
       "      <td>0.0</td>\n",
       "      <td>8434.0</td>\n",
       "      <td>47.0</td>\n",
       "      <td>0.0</td>\n",
       "      <td>4.0</td>\n",
       "      <td>1974.0</td>\n",
       "      <td>0.0</td>\n",
       "      <td>0.0</td>\n",
       "      <td>1.0</td>\n",
       "      <td>0.0</td>\n",
       "      <td>0.0</td>\n",
       "      <td>1.0</td>\n",
       "      <td>0.0</td>\n",
       "      <td>0.0</td>\n",
       "      <td>0.0</td>\n",
       "      <td>1.0</td>\n",
       "      <td>0.0</td>\n",
       "      <td>0.0</td>\n",
       "      <td>1.0</td>\n",
       "      <td>0.0</td>\n",
       "      <td>1.0</td>\n",
       "      <td>0.0</td>\n",
       "      <td>0.0</td>\n",
       "      <td>0.0</td>\n",
       "      <td>0.0</td>\n",
       "      <td>0.0</td>\n",
       "      <td>0.0</td>\n",
       "      <td>0.0</td>\n",
       "      <td>1.0</td>\n",
       "      <td>0.0</td>\n",
       "      <td>0.0</td>\n",
       "      <td>0.0</td>\n",
       "      <td>0.0</td>\n",
       "      <td>0.0</td>\n",
       "      <td>0.0</td>\n",
       "      <td>1.0</td>\n",
       "      <td>0.0</td>\n",
       "      <td>0.0</td>\n",
       "      <td>0.0</td>\n",
       "      <td>0.0</td>\n",
       "      <td>1.0</td>\n",
       "      <td>0.0</td>\n",
       "      <td>0.0</td>\n",
       "      <td>0.0</td>\n",
       "      <td>0.0</td>\n",
       "      <td>0.0</td>\n",
       "      <td>0.0</td>\n",
       "      <td>0.0</td>\n",
       "      <td>1.0</td>\n",
       "      <td>0.0</td>\n",
       "      <td>0.0</td>\n",
       "      <td>0.0</td>\n",
       "      <td>1.0</td>\n",
       "      <td>0.0</td>\n",
       "      <td>0.0</td>\n",
       "      <td>0.0</td>\n",
       "      <td>1.0</td>\n",
       "      <td>0.0</td>\n",
       "      <td>0.0</td>\n",
       "      <td>1.0</td>\n",
       "      <td>0.0</td>\n",
       "      <td>0.0</td>\n",
       "      <td>0.0</td>\n",
       "      <td>1.0</td>\n",
       "      <td>0.0</td>\n",
       "      <td>0.0</td>\n",
       "      <td>0.0</td>\n",
       "    </tr>\n",
       "    <tr>\n",
       "      <th>28603</th>\n",
       "      <td>2.0</td>\n",
       "      <td>1.0</td>\n",
       "      <td>0.0</td>\n",
       "      <td>0.0</td>\n",
       "      <td>0.0</td>\n",
       "      <td>0.0</td>\n",
       "      <td>1.0</td>\n",
       "      <td>0.0</td>\n",
       "      <td>0.0</td>\n",
       "      <td>1.0</td>\n",
       "      <td>0.0</td>\n",
       "      <td>18.0</td>\n",
       "      <td>1.0</td>\n",
       "      <td>5.0</td>\n",
       "      <td>31.0</td>\n",
       "      <td>31.0</td>\n",
       "      <td>10.0</td>\n",
       "      <td>4.0</td>\n",
       "      <td>0.0</td>\n",
       "      <td>1.0</td>\n",
       "      <td>0.0</td>\n",
       "      <td>1989.0</td>\n",
       "      <td>1292226.0</td>\n",
       "      <td>324.0</td>\n",
       "      <td>0.0</td>\n",
       "      <td>1047.0</td>\n",
       "      <td>1259551.0</td>\n",
       "      <td>6.0</td>\n",
       "      <td>0.0</td>\n",
       "      <td>0.0</td>\n",
       "      <td>0.0</td>\n",
       "      <td>14.0</td>\n",
       "      <td>6788.0</td>\n",
       "      <td>2.0</td>\n",
       "      <td>0.0</td>\n",
       "      <td>0.0</td>\n",
       "      <td>1977.0</td>\n",
       "      <td>0.0</td>\n",
       "      <td>1.0</td>\n",
       "      <td>0.0</td>\n",
       "      <td>1.0</td>\n",
       "      <td>0.0</td>\n",
       "      <td>0.0</td>\n",
       "      <td>0.0</td>\n",
       "      <td>0.0</td>\n",
       "      <td>0.0</td>\n",
       "      <td>1.0</td>\n",
       "      <td>0.0</td>\n",
       "      <td>0.0</td>\n",
       "      <td>1.0</td>\n",
       "      <td>0.0</td>\n",
       "      <td>0.0</td>\n",
       "      <td>0.0</td>\n",
       "      <td>0.0</td>\n",
       "      <td>1.0</td>\n",
       "      <td>1.0</td>\n",
       "      <td>0.0</td>\n",
       "      <td>0.0</td>\n",
       "      <td>0.0</td>\n",
       "      <td>0.0</td>\n",
       "      <td>0.0</td>\n",
       "      <td>0.0</td>\n",
       "      <td>0.0</td>\n",
       "      <td>0.0</td>\n",
       "      <td>0.0</td>\n",
       "      <td>1.0</td>\n",
       "      <td>0.0</td>\n",
       "      <td>1.0</td>\n",
       "      <td>0.0</td>\n",
       "      <td>0.0</td>\n",
       "      <td>0.0</td>\n",
       "      <td>0.0</td>\n",
       "      <td>0.0</td>\n",
       "      <td>0.0</td>\n",
       "      <td>0.0</td>\n",
       "      <td>0.0</td>\n",
       "      <td>0.0</td>\n",
       "      <td>0.0</td>\n",
       "      <td>0.0</td>\n",
       "      <td>1.0</td>\n",
       "      <td>0.0</td>\n",
       "      <td>0.0</td>\n",
       "      <td>0.0</td>\n",
       "      <td>1.0</td>\n",
       "      <td>0.0</td>\n",
       "      <td>0.0</td>\n",
       "      <td>0.0</td>\n",
       "      <td>1.0</td>\n",
       "      <td>0.0</td>\n",
       "      <td>0.0</td>\n",
       "      <td>1.0</td>\n",
       "      <td>0.0</td>\n",
       "      <td>0.0</td>\n",
       "      <td>0.0</td>\n",
       "      <td>0.0</td>\n",
       "      <td>0.0</td>\n",
       "      <td>0.0</td>\n",
       "      <td>1.0</td>\n",
       "    </tr>\n",
       "    <tr>\n",
       "      <th>28757</th>\n",
       "      <td>2.0</td>\n",
       "      <td>1.0</td>\n",
       "      <td>0.0</td>\n",
       "      <td>0.0</td>\n",
       "      <td>0.0</td>\n",
       "      <td>0.0</td>\n",
       "      <td>1.0</td>\n",
       "      <td>0.0</td>\n",
       "      <td>0.0</td>\n",
       "      <td>1.0</td>\n",
       "      <td>0.0</td>\n",
       "      <td>99.0</td>\n",
       "      <td>1.0</td>\n",
       "      <td>5.0</td>\n",
       "      <td>31.0</td>\n",
       "      <td>31.0</td>\n",
       "      <td>9.0</td>\n",
       "      <td>4.0</td>\n",
       "      <td>0.0</td>\n",
       "      <td>1.0</td>\n",
       "      <td>0.0</td>\n",
       "      <td>1989.0</td>\n",
       "      <td>1476205.0</td>\n",
       "      <td>324.0</td>\n",
       "      <td>0.0</td>\n",
       "      <td>1047.0</td>\n",
       "      <td>1259760.0</td>\n",
       "      <td>6.0</td>\n",
       "      <td>0.0</td>\n",
       "      <td>0.0</td>\n",
       "      <td>0.0</td>\n",
       "      <td>14.0</td>\n",
       "      <td>6788.0</td>\n",
       "      <td>2.0</td>\n",
       "      <td>0.0</td>\n",
       "      <td>0.0</td>\n",
       "      <td>1978.0</td>\n",
       "      <td>0.0</td>\n",
       "      <td>1.0</td>\n",
       "      <td>0.0</td>\n",
       "      <td>1.0</td>\n",
       "      <td>0.0</td>\n",
       "      <td>0.0</td>\n",
       "      <td>0.0</td>\n",
       "      <td>0.0</td>\n",
       "      <td>0.0</td>\n",
       "      <td>1.0</td>\n",
       "      <td>0.0</td>\n",
       "      <td>0.0</td>\n",
       "      <td>1.0</td>\n",
       "      <td>0.0</td>\n",
       "      <td>0.0</td>\n",
       "      <td>0.0</td>\n",
       "      <td>0.0</td>\n",
       "      <td>1.0</td>\n",
       "      <td>1.0</td>\n",
       "      <td>0.0</td>\n",
       "      <td>0.0</td>\n",
       "      <td>0.0</td>\n",
       "      <td>0.0</td>\n",
       "      <td>0.0</td>\n",
       "      <td>0.0</td>\n",
       "      <td>0.0</td>\n",
       "      <td>0.0</td>\n",
       "      <td>0.0</td>\n",
       "      <td>1.0</td>\n",
       "      <td>0.0</td>\n",
       "      <td>1.0</td>\n",
       "      <td>0.0</td>\n",
       "      <td>0.0</td>\n",
       "      <td>0.0</td>\n",
       "      <td>0.0</td>\n",
       "      <td>0.0</td>\n",
       "      <td>0.0</td>\n",
       "      <td>0.0</td>\n",
       "      <td>0.0</td>\n",
       "      <td>0.0</td>\n",
       "      <td>0.0</td>\n",
       "      <td>0.0</td>\n",
       "      <td>1.0</td>\n",
       "      <td>0.0</td>\n",
       "      <td>0.0</td>\n",
       "      <td>0.0</td>\n",
       "      <td>1.0</td>\n",
       "      <td>0.0</td>\n",
       "      <td>0.0</td>\n",
       "      <td>0.0</td>\n",
       "      <td>1.0</td>\n",
       "      <td>0.0</td>\n",
       "      <td>0.0</td>\n",
       "      <td>1.0</td>\n",
       "      <td>0.0</td>\n",
       "      <td>0.0</td>\n",
       "      <td>0.0</td>\n",
       "      <td>0.0</td>\n",
       "      <td>0.0</td>\n",
       "      <td>0.0</td>\n",
       "      <td>1.0</td>\n",
       "    </tr>\n",
       "    <tr>\n",
       "      <th>28820</th>\n",
       "      <td>2.0</td>\n",
       "      <td>1.0</td>\n",
       "      <td>0.0</td>\n",
       "      <td>0.0</td>\n",
       "      <td>0.0</td>\n",
       "      <td>0.0</td>\n",
       "      <td>1.0</td>\n",
       "      <td>0.0</td>\n",
       "      <td>0.0</td>\n",
       "      <td>1.0</td>\n",
       "      <td>0.0</td>\n",
       "      <td>18.0</td>\n",
       "      <td>1.0</td>\n",
       "      <td>5.0</td>\n",
       "      <td>31.0</td>\n",
       "      <td>31.0</td>\n",
       "      <td>10.0</td>\n",
       "      <td>4.0</td>\n",
       "      <td>0.0</td>\n",
       "      <td>1.0</td>\n",
       "      <td>0.0</td>\n",
       "      <td>1989.0</td>\n",
       "      <td>1226323.0</td>\n",
       "      <td>324.0</td>\n",
       "      <td>0.0</td>\n",
       "      <td>1047.0</td>\n",
       "      <td>1259842.0</td>\n",
       "      <td>6.0</td>\n",
       "      <td>0.0</td>\n",
       "      <td>0.0</td>\n",
       "      <td>0.0</td>\n",
       "      <td>14.0</td>\n",
       "      <td>6788.0</td>\n",
       "      <td>2.0</td>\n",
       "      <td>0.0</td>\n",
       "      <td>0.0</td>\n",
       "      <td>1978.0</td>\n",
       "      <td>0.0</td>\n",
       "      <td>1.0</td>\n",
       "      <td>0.0</td>\n",
       "      <td>1.0</td>\n",
       "      <td>0.0</td>\n",
       "      <td>0.0</td>\n",
       "      <td>0.0</td>\n",
       "      <td>0.0</td>\n",
       "      <td>0.0</td>\n",
       "      <td>1.0</td>\n",
       "      <td>0.0</td>\n",
       "      <td>0.0</td>\n",
       "      <td>1.0</td>\n",
       "      <td>0.0</td>\n",
       "      <td>0.0</td>\n",
       "      <td>0.0</td>\n",
       "      <td>0.0</td>\n",
       "      <td>1.0</td>\n",
       "      <td>1.0</td>\n",
       "      <td>0.0</td>\n",
       "      <td>0.0</td>\n",
       "      <td>0.0</td>\n",
       "      <td>0.0</td>\n",
       "      <td>0.0</td>\n",
       "      <td>0.0</td>\n",
       "      <td>0.0</td>\n",
       "      <td>0.0</td>\n",
       "      <td>0.0</td>\n",
       "      <td>1.0</td>\n",
       "      <td>0.0</td>\n",
       "      <td>1.0</td>\n",
       "      <td>0.0</td>\n",
       "      <td>0.0</td>\n",
       "      <td>0.0</td>\n",
       "      <td>0.0</td>\n",
       "      <td>0.0</td>\n",
       "      <td>0.0</td>\n",
       "      <td>0.0</td>\n",
       "      <td>0.0</td>\n",
       "      <td>0.0</td>\n",
       "      <td>0.0</td>\n",
       "      <td>0.0</td>\n",
       "      <td>1.0</td>\n",
       "      <td>0.0</td>\n",
       "      <td>0.0</td>\n",
       "      <td>0.0</td>\n",
       "      <td>1.0</td>\n",
       "      <td>0.0</td>\n",
       "      <td>0.0</td>\n",
       "      <td>0.0</td>\n",
       "      <td>1.0</td>\n",
       "      <td>0.0</td>\n",
       "      <td>0.0</td>\n",
       "      <td>1.0</td>\n",
       "      <td>0.0</td>\n",
       "      <td>0.0</td>\n",
       "      <td>0.0</td>\n",
       "      <td>0.0</td>\n",
       "      <td>0.0</td>\n",
       "      <td>0.0</td>\n",
       "      <td>1.0</td>\n",
       "    </tr>\n",
       "    <tr>\n",
       "      <th>28927</th>\n",
       "      <td>2.0</td>\n",
       "      <td>1.0</td>\n",
       "      <td>0.0</td>\n",
       "      <td>0.0</td>\n",
       "      <td>0.0</td>\n",
       "      <td>0.0</td>\n",
       "      <td>1.0</td>\n",
       "      <td>0.0</td>\n",
       "      <td>0.0</td>\n",
       "      <td>1.0</td>\n",
       "      <td>0.0</td>\n",
       "      <td>18.0</td>\n",
       "      <td>1.0</td>\n",
       "      <td>5.0</td>\n",
       "      <td>31.0</td>\n",
       "      <td>31.0</td>\n",
       "      <td>10.0</td>\n",
       "      <td>4.0</td>\n",
       "      <td>0.0</td>\n",
       "      <td>1.0</td>\n",
       "      <td>0.0</td>\n",
       "      <td>1989.0</td>\n",
       "      <td>1150485.0</td>\n",
       "      <td>324.0</td>\n",
       "      <td>0.0</td>\n",
       "      <td>1047.0</td>\n",
       "      <td>1259973.0</td>\n",
       "      <td>6.0</td>\n",
       "      <td>0.0</td>\n",
       "      <td>0.0</td>\n",
       "      <td>0.0</td>\n",
       "      <td>14.0</td>\n",
       "      <td>6788.0</td>\n",
       "      <td>2.0</td>\n",
       "      <td>0.0</td>\n",
       "      <td>0.0</td>\n",
       "      <td>1978.0</td>\n",
       "      <td>0.0</td>\n",
       "      <td>1.0</td>\n",
       "      <td>0.0</td>\n",
       "      <td>1.0</td>\n",
       "      <td>0.0</td>\n",
       "      <td>0.0</td>\n",
       "      <td>0.0</td>\n",
       "      <td>0.0</td>\n",
       "      <td>0.0</td>\n",
       "      <td>1.0</td>\n",
       "      <td>0.0</td>\n",
       "      <td>0.0</td>\n",
       "      <td>1.0</td>\n",
       "      <td>0.0</td>\n",
       "      <td>0.0</td>\n",
       "      <td>0.0</td>\n",
       "      <td>0.0</td>\n",
       "      <td>1.0</td>\n",
       "      <td>1.0</td>\n",
       "      <td>0.0</td>\n",
       "      <td>0.0</td>\n",
       "      <td>0.0</td>\n",
       "      <td>0.0</td>\n",
       "      <td>0.0</td>\n",
       "      <td>0.0</td>\n",
       "      <td>0.0</td>\n",
       "      <td>0.0</td>\n",
       "      <td>0.0</td>\n",
       "      <td>1.0</td>\n",
       "      <td>0.0</td>\n",
       "      <td>1.0</td>\n",
       "      <td>0.0</td>\n",
       "      <td>0.0</td>\n",
       "      <td>0.0</td>\n",
       "      <td>0.0</td>\n",
       "      <td>0.0</td>\n",
       "      <td>0.0</td>\n",
       "      <td>0.0</td>\n",
       "      <td>0.0</td>\n",
       "      <td>0.0</td>\n",
       "      <td>0.0</td>\n",
       "      <td>0.0</td>\n",
       "      <td>1.0</td>\n",
       "      <td>0.0</td>\n",
       "      <td>0.0</td>\n",
       "      <td>0.0</td>\n",
       "      <td>1.0</td>\n",
       "      <td>0.0</td>\n",
       "      <td>0.0</td>\n",
       "      <td>0.0</td>\n",
       "      <td>1.0</td>\n",
       "      <td>0.0</td>\n",
       "      <td>0.0</td>\n",
       "      <td>1.0</td>\n",
       "      <td>0.0</td>\n",
       "      <td>0.0</td>\n",
       "      <td>0.0</td>\n",
       "      <td>0.0</td>\n",
       "      <td>0.0</td>\n",
       "      <td>0.0</td>\n",
       "      <td>1.0</td>\n",
       "    </tr>\n",
       "  </tbody>\n",
       "</table>\n",
       "</div>"
      ],
      "text/plain": [
       "        Stick  Turbocharged  MachineHoursCurrentMeter  Enclosure_Type  \\\n",
       "205615    0.0           0.0                       0.0             0.0   \n",
       "28603     2.0           1.0                       0.0             0.0   \n",
       "28757     2.0           1.0                       0.0             0.0   \n",
       "28820     2.0           1.0                       0.0             0.0   \n",
       "28927     2.0           1.0                       0.0             0.0   \n",
       "\n",
       "        Blade_Type  Track_Type  saleMonth  Stick_Length  Ripper  \\\n",
       "205615         8.0         0.0        1.0           0.0     2.0   \n",
       "28603          0.0         0.0        1.0           0.0     0.0   \n",
       "28757          0.0         0.0        1.0           0.0     0.0   \n",
       "28820          0.0         0.0        1.0           0.0     0.0   \n",
       "28927          0.0         0.0        1.0           0.0     0.0   \n",
       "\n",
       "        saleDayofweek  fiModelSeries  auctioneerID  ProductGroupDesc  \\\n",
       "205615            1.0            0.0          18.0               5.0   \n",
       "28603             1.0            0.0          18.0               1.0   \n",
       "28757             1.0            0.0          99.0               1.0   \n",
       "28820             1.0            0.0          18.0               1.0   \n",
       "28927             1.0            0.0          18.0               1.0   \n",
       "\n",
       "        saleWeek  saleDay  saleDayofyear  state  Drive_System  Hydraulics  \\\n",
       "205615       3.0     17.0           17.0   44.0           0.0         1.0   \n",
       "28603        5.0     31.0           31.0   10.0           4.0         0.0   \n",
       "28757        5.0     31.0           31.0    9.0           4.0         0.0   \n",
       "28820        5.0     31.0           31.0   10.0           4.0         0.0   \n",
       "28927        5.0     31.0           31.0   10.0           4.0         0.0   \n",
       "\n",
       "        ProductGroup  Tire_Size  saleYear  MachineID  fiBaseModel  \\\n",
       "205615           5.0        0.0    1989.0  1126363.0       1735.0   \n",
       "28603            1.0        0.0    1989.0  1292226.0        324.0   \n",
       "28757            1.0        0.0    1989.0  1476205.0        324.0   \n",
       "28820            1.0        0.0    1989.0  1226323.0        324.0   \n",
       "28927            1.0        0.0    1989.0  1150485.0        324.0   \n",
       "\n",
       "        fiModelDescriptor  fiModelDesc    SalesID  Enclosure  Grouser_Tracks  \\\n",
       "205615                0.0       4537.0  1646770.0        6.0             0.0   \n",
       "28603                 0.0       1047.0  1259551.0        6.0             0.0   \n",
       "28757                 0.0       1047.0  1259760.0        6.0             0.0   \n",
       "28820                 0.0       1047.0  1259842.0        6.0             0.0   \n",
       "28927                 0.0       1047.0  1259973.0        6.0             0.0   \n",
       "\n",
       "        fiSecondaryDesc  Hydraulics_Flow  saleElapsed  ModelID  \\\n",
       "205615              0.0              0.0          0.0   8434.0   \n",
       "28603               0.0              0.0         14.0   6788.0   \n",
       "28757               0.0              0.0         14.0   6788.0   \n",
       "28820               0.0              0.0         14.0   6788.0   \n",
       "28927               0.0              0.0         14.0   6788.0   \n",
       "\n",
       "        fiProductClassDesc  Coupler_System  ProductSize  YearMade  \\\n",
       "205615                47.0             0.0          4.0    1974.0   \n",
       "28603                  2.0             0.0          0.0    1977.0   \n",
       "28757                  2.0             0.0          0.0    1978.0   \n",
       "28820                  2.0             0.0          0.0    1978.0   \n",
       "28927                  2.0             0.0          0.0    1978.0   \n",
       "\n",
       "        Stick_Extended  Stick_Standard  Stick_nan  \\\n",
       "205615             0.0             0.0        1.0   \n",
       "28603              0.0             1.0        0.0   \n",
       "28757              0.0             1.0        0.0   \n",
       "28820              0.0             1.0        0.0   \n",
       "28927              0.0             1.0        0.0   \n",
       "\n",
       "        Turbocharged_None or Unspecified  Turbocharged_Yes  Turbocharged_nan  \\\n",
       "205615                               0.0               0.0               1.0   \n",
       "28603                                1.0               0.0               0.0   \n",
       "28757                                1.0               0.0               0.0   \n",
       "28820                                1.0               0.0               0.0   \n",
       "28927                                1.0               0.0               0.0   \n",
       "\n",
       "        Enclosure_Type_High Profile  Enclosure_Type_Low Profile  \\\n",
       "205615                          0.0                         0.0   \n",
       "28603                           0.0                         0.0   \n",
       "28757                           0.0                         0.0   \n",
       "28820                           0.0                         0.0   \n",
       "28927                           0.0                         0.0   \n",
       "\n",
       "        Enclosure_Type_None or Unspecified  Enclosure_Type_nan  \\\n",
       "205615                                 0.0                 1.0   \n",
       "28603                                  0.0                 1.0   \n",
       "28757                                  0.0                 1.0   \n",
       "28820                                  0.0                 1.0   \n",
       "28927                                  0.0                 1.0   \n",
       "\n",
       "        Track_Type_Rubber  Track_Type_Steel  Track_Type_nan  \\\n",
       "205615                0.0               0.0             1.0   \n",
       "28603                 0.0               0.0             1.0   \n",
       "28757                 0.0               0.0             1.0   \n",
       "28820                 0.0               0.0             1.0   \n",
       "28927                 0.0               0.0             1.0   \n",
       "\n",
       "        Ripper_Multi Shank  Ripper_None or Unspecified  Ripper_Single Shank  \\\n",
       "205615                 0.0                         1.0                  0.0   \n",
       "28603                  0.0                         0.0                  0.0   \n",
       "28757                  0.0                         0.0                  0.0   \n",
       "28820                  0.0                         0.0                  0.0   \n",
       "28927                  0.0                         0.0                  0.0   \n",
       "\n",
       "        Ripper_Yes  Ripper_nan  ProductGroupDesc_Backhoe Loaders  \\\n",
       "205615         0.0         0.0                               0.0   \n",
       "28603          0.0         1.0                               1.0   \n",
       "28757          0.0         1.0                               1.0   \n",
       "28820          0.0         1.0                               1.0   \n",
       "28927          0.0         1.0                               1.0   \n",
       "\n",
       "        ProductGroupDesc_Motor Graders  ProductGroupDesc_Skid Steer Loaders  \\\n",
       "205615                             0.0                                  0.0   \n",
       "28603                              0.0                                  0.0   \n",
       "28757                              0.0                                  0.0   \n",
       "28820                              0.0                                  0.0   \n",
       "28927                              0.0                                  0.0   \n",
       "\n",
       "        ProductGroupDesc_Track Excavators  \\\n",
       "205615                                0.0   \n",
       "28603                                 0.0   \n",
       "28757                                 0.0   \n",
       "28820                                 0.0   \n",
       "28927                                 0.0   \n",
       "\n",
       "        ProductGroupDesc_Track Type Tractors  ProductGroupDesc_Wheel Loader  \\\n",
       "205615                                   1.0                            0.0   \n",
       "28603                                    0.0                            0.0   \n",
       "28757                                    0.0                            0.0   \n",
       "28820                                    0.0                            0.0   \n",
       "28927                                    0.0                            0.0   \n",
       "\n",
       "        ProductGroupDesc_nan  Drive_System_All Wheel Drive  \\\n",
       "205615                   0.0                           0.0   \n",
       "28603                    0.0                           0.0   \n",
       "28757                    0.0                           0.0   \n",
       "28820                    0.0                           0.0   \n",
       "28927                    0.0                           0.0   \n",
       "\n",
       "        Drive_System_Four Wheel Drive  Drive_System_No  \\\n",
       "205615                            0.0              0.0   \n",
       "28603                             0.0              0.0   \n",
       "28757                             0.0              0.0   \n",
       "28820                             0.0              0.0   \n",
       "28927                             0.0              0.0   \n",
       "\n",
       "        Drive_System_Two Wheel Drive  Drive_System_nan  ProductGroup_BL  \\\n",
       "205615                           0.0               1.0              0.0   \n",
       "28603                            1.0               0.0              1.0   \n",
       "28757                            1.0               0.0              1.0   \n",
       "28820                            1.0               0.0              1.0   \n",
       "28927                            1.0               0.0              1.0   \n",
       "\n",
       "        ProductGroup_MG  ProductGroup_SSL  ProductGroup_TEX  ProductGroup_TTT  \\\n",
       "205615              0.0               0.0               0.0               1.0   \n",
       "28603               0.0               0.0               0.0               0.0   \n",
       "28757               0.0               0.0               0.0               0.0   \n",
       "28820               0.0               0.0               0.0               0.0   \n",
       "28927               0.0               0.0               0.0               0.0   \n",
       "\n",
       "        ProductGroup_WL  ProductGroup_nan  Enclosure_EROPS  \\\n",
       "205615              0.0               0.0              0.0   \n",
       "28603               0.0               0.0              0.0   \n",
       "28757               0.0               0.0              0.0   \n",
       "28820               0.0               0.0              0.0   \n",
       "28927               0.0               0.0              0.0   \n",
       "\n",
       "        Enclosure_EROPS AC  Enclosure_EROPS w AC  Enclosure_NO ROPS  \\\n",
       "205615                 0.0                   0.0                0.0   \n",
       "28603                  0.0                   0.0                0.0   \n",
       "28757                  0.0                   0.0                0.0   \n",
       "28820                  0.0                   0.0                0.0   \n",
       "28927                  0.0                   0.0                0.0   \n",
       "\n",
       "        Enclosure_None or Unspecified  Enclosure_OROPS  Enclosure_nan  \\\n",
       "205615                            0.0              1.0            0.0   \n",
       "28603                             0.0              1.0            0.0   \n",
       "28757                             0.0              1.0            0.0   \n",
       "28820                             0.0              1.0            0.0   \n",
       "28927                             0.0              1.0            0.0   \n",
       "\n",
       "        Grouser_Tracks_None or Unspecified  Grouser_Tracks_Yes  \\\n",
       "205615                                 0.0                 0.0   \n",
       "28603                                  0.0                 0.0   \n",
       "28757                                  0.0                 0.0   \n",
       "28820                                  0.0                 0.0   \n",
       "28927                                  0.0                 0.0   \n",
       "\n",
       "        Grouser_Tracks_nan  Hydraulics_Flow_High Flow  \\\n",
       "205615                 1.0                        0.0   \n",
       "28603                  1.0                        0.0   \n",
       "28757                  1.0                        0.0   \n",
       "28820                  1.0                        0.0   \n",
       "28927                  1.0                        0.0   \n",
       "\n",
       "        Hydraulics_Flow_None or Unspecified  Hydraulics_Flow_Standard  \\\n",
       "205615                                  0.0                       0.0   \n",
       "28603                                   0.0                       0.0   \n",
       "28757                                   0.0                       0.0   \n",
       "28820                                   0.0                       0.0   \n",
       "28927                                   0.0                       0.0   \n",
       "\n",
       "        Hydraulics_Flow_nan  Coupler_System_None or Unspecified  \\\n",
       "205615                  1.0                                 0.0   \n",
       "28603                   1.0                                 0.0   \n",
       "28757                   1.0                                 0.0   \n",
       "28820                   1.0                                 0.0   \n",
       "28927                   1.0                                 0.0   \n",
       "\n",
       "        Coupler_System_Yes  Coupler_System_nan  ProductSize_Compact  \\\n",
       "205615                 0.0                 1.0                  0.0   \n",
       "28603                  0.0                 1.0                  0.0   \n",
       "28757                  0.0                 1.0                  0.0   \n",
       "28820                  0.0                 1.0                  0.0   \n",
       "28927                  0.0                 1.0                  0.0   \n",
       "\n",
       "        ProductSize_Large  ProductSize_Large / Medium  ProductSize_Medium  \\\n",
       "205615                0.0                         0.0                 1.0   \n",
       "28603                 0.0                         0.0                 0.0   \n",
       "28757                 0.0                         0.0                 0.0   \n",
       "28820                 0.0                         0.0                 0.0   \n",
       "28927                 0.0                         0.0                 0.0   \n",
       "\n",
       "        ProductSize_Mini  ProductSize_Small  ProductSize_nan  \n",
       "205615               0.0                0.0              0.0  \n",
       "28603                0.0                0.0              1.0  \n",
       "28757                0.0                0.0              1.0  \n",
       "28820                0.0                0.0              1.0  \n",
       "28927                0.0                0.0              1.0  "
      ]
     },
     "execution_count": 48,
     "metadata": {},
     "output_type": "execute_result"
    }
   ],
   "source": [
    "X_train2.head()"
   ]
  },
  {
   "cell_type": "code",
   "execution_count": 49,
   "metadata": {},
   "outputs": [
    {
     "data": {
      "text/plain": [
       "RandomForestRegressor(bootstrap=True, ccp_alpha=0.0, criterion='mse',\n",
       "                      max_depth=None, max_features=0.5, max_leaf_nodes=None,\n",
       "                      max_samples=None, min_impurity_decrease=0.0,\n",
       "                      min_impurity_split=None, min_samples_leaf=1,\n",
       "                      min_samples_split=2, min_weight_fraction_leaf=0.0,\n",
       "                      n_estimators=35, n_jobs=-1, oob_score=False,\n",
       "                      random_state=None, verbose=0, warm_start=False)"
      ]
     },
     "execution_count": 49,
     "metadata": {},
     "output_type": "execute_result"
    }
   ],
   "source": [
    "## retraining the model with only important columns\n",
    "m2 = RandomForestRegressor(n_jobs=-1, n_estimators=35, max_features=0.5)\n",
    "m2.fit(X_train2, y_train2)"
   ]
  },
  {
   "cell_type": "code",
   "execution_count": 50,
   "metadata": {},
   "outputs": [
    {
     "data": {
      "text/plain": [
       "0.8831375431610206"
      ]
     },
     "execution_count": 50,
     "metadata": {},
     "output_type": "execute_result"
    }
   ],
   "source": [
    "# score\n",
    "m2.score(X_test2, y_test2)"
   ]
  },
  {
   "cell_type": "code",
   "execution_count": 51,
   "metadata": {},
   "outputs": [
    {
     "data": {
      "text/plain": [
       "0.24443194809957916"
      ]
     },
     "execution_count": 51,
     "metadata": {},
     "output_type": "execute_result"
    }
   ],
   "source": [
    "# get the RMLSE\n",
    "mean_squared_error(y_test2, m2.predict(X_test2), squared=False)"
   ]
  },
  {
   "cell_type": "code",
   "execution_count": 52,
   "metadata": {
    "scrolled": true
   },
   "outputs": [
    {
     "data": {
      "text/plain": [
       "<matplotlib.axes._subplots.AxesSubplot at 0x2050df1e5c8>"
      ]
     },
     "execution_count": 52,
     "metadata": {},
     "output_type": "execute_result"
    },
    {
     "data": {
      "image/png": "[encoded data removed]",
      "text/plain": [
       "<Figure size 720x1080 with 1 Axes>"
      ]
     },
     "metadata": {
      "needs_background": "light"
     },
     "output_type": "display_data"
    }
   ],
   "source": [
    "## get feature importances of new model\n",
    "## plot feature importances\n",
    "imp_series = pd.Series(m2.feature_importances_, index=X_train2.columns).sort_values()\n",
    "imp_series.plot(kind='barh', figsize=(10,15), sort_columns=True)"
   ]
  },
  {
   "cell_type": "markdown",
   "metadata": {},
   "source": [
    "### FINAL MODEL"
   ]
  },
  {
   "cell_type": "code",
   "execution_count": 53,
   "metadata": {},
   "outputs": [],
   "source": [
    "# we will drop unique identifiers as they do not add any value in determining the sale value\n",
    "X_train2.drop(['SalesID', 'MachineID'], axis=1, inplace=True)"
   ]
  },
  {
   "cell_type": "code",
   "execution_count": 58,
   "metadata": {},
   "outputs": [
    {
     "data": {
      "text/plain": [
       "RandomForestRegressor(bootstrap=True, ccp_alpha=0.0, criterion='mse',\n",
       "                      max_depth=None, max_features=0.5, max_leaf_nodes=None,\n",
       "                      max_samples=None, min_impurity_decrease=0.0,\n",
       "                      min_impurity_split=None, min_samples_leaf=1,\n",
       "                      min_samples_split=2, min_weight_fraction_leaf=0.0,\n",
       "                      n_estimators=35, n_jobs=-1, oob_score=False,\n",
       "                      random_state=None, verbose=0, warm_start=False)"
      ]
     },
     "execution_count": 58,
     "metadata": {},
     "output_type": "execute_result"
    }
   ],
   "source": [
    "## retraining the model with only important columns\n",
    "m3 = RandomForestRegressor(n_jobs=-1, n_estimators=35, max_features=0.5)\n",
    "m3.fit(X_train2, y_train2)"
   ]
  },
  {
   "cell_type": "code",
   "execution_count": 60,
   "metadata": {},
   "outputs": [
    {
     "data": {
      "text/plain": [
       "0.8875165209956598"
      ]
     },
     "execution_count": 60,
     "metadata": {},
     "output_type": "execute_result"
    }
   ],
   "source": [
    "# score\n",
    "X_test2.drop(['SalesID', 'MachineID'], axis=1, inplace=True)\n",
    "m3.score(X_test2, y_test2)"
   ]
  },
  {
   "cell_type": "code",
   "execution_count": 61,
   "metadata": {},
   "outputs": [
    {
     "data": {
      "text/plain": [
       "0.23980864378016786"
      ]
     },
     "execution_count": 61,
     "metadata": {},
     "output_type": "execute_result"
    }
   ],
   "source": [
    "# get the RMLSE\n",
    "mean_squared_error(y_test2, m3.predict(X_test2), squared=False)"
   ]
  },
  {
   "cell_type": "markdown",
   "metadata": {},
   "source": [
    "With this model, we can see that the score has increased slightly from 0.8852 to 0.8875\n",
    "and the RMSLE has also improved from 0.242 to 0.239"
   ]
  }
 ],
 "metadata": {
  "kernelspec": {
   "display_name": "Python 3",
   "language": "python",
   "name": "python3"
  },
  "language_info": {
   "codemirror_mode": {
    "name": "ipython",
    "version": 3
   },
   "file_extension": ".py",
   "mimetype": "text/x-python",
   "name": "python",
   "nbconvert_exporter": "python",
   "pygments_lexer": "ipython3",
   "version": "3.7.6"
  }
 },
 "nbformat": 4,
 "nbformat_minor": 4
}
